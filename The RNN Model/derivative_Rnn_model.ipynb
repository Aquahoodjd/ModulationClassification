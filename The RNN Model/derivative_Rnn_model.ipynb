{
  "cells": [
    {
      "cell_type": "code",
      "execution_count": null,
      "metadata": {
        "id": "ywwEfCwinI1Z"
      },
      "outputs": [],
      "source": [
        "import numpy as np\n",
        "import pandas as pd\n",
        "import csv\n",
        "import pickle\n",
        "import os\n",
        "import scipy\n",
        "import matplotlib.pyplot as plt\n",
        "from sklearn.preprocessing import LabelEncoder\n",
        "from sklearn.model_selection import train_test_split\n",
        "from sklearn.metrics import confusion_matrix\n",
        "from sklearn.metrics import classification_report\n",
        "from sklearn.metrics import f1_score, precision_score, recall_score, confusion_matrix, accuracy_score\n",
        "import seaborn as sns\n",
        "from keras.utils import np_utils\n",
        "from keras.layers import LSTM, BatchNormalization, SimpleRNN\n",
        "from keras import Input\n",
        "import tensorflow\n",
        "from tensorflow.keras.utils import plot_model\n",
        "from tensorflow.keras.models import Sequential\n",
        "from tensorflow.keras.layers import Conv2D\n",
        "from tensorflow.keras.layers import MaxPool2D\n",
        "from tensorflow.keras.layers import Flatten\n",
        "from tensorflow.keras.layers import Dropout\n",
        "from tensorflow.keras.layers import Dense\n",
        "import gc"
      ]
    },
    {
      "cell_type": "code",
      "execution_count": null,
      "metadata": {
        "colab": {
          "base_uri": "https://localhost:8080/"
        },
        "id": "Njns266FnlwZ",
        "outputId": "3defbc56-5470-4b4f-83b2-4407967460d6"
      },
      "outputs": [
        {
          "output_type": "stream",
          "name": "stdout",
          "text": [
            "Drive already mounted at /content/drive; to attempt to forcibly remount, call drive.mount(\"/content/drive\", force_remount=True).\n"
          ]
        }
      ],
      "source": [
        "from google.colab import drive\n",
        "drive.mount('/content/drive')"
      ]
    },
    {
      "cell_type": "code",
      "execution_count": null,
      "metadata": {
        "colab": {
          "base_uri": "https://localhost:8080/"
        },
        "id": "Hhdr40tprK5c",
        "outputId": "542aa460-323e-4b69-ba90-1a940d1c12a0"
      },
      "outputs": [
        {
          "output_type": "execute_result",
          "data": {
            "text/plain": [
              "[]"
            ]
          },
          "metadata": {},
          "execution_count": 3
        }
      ],
      "source": [
        "# enable gpu\n",
        "from keras import backend as K\n",
        "K._get_available_gpus()"
      ]
    },
    {
      "cell_type": "code",
      "execution_count": null,
      "metadata": {
        "id": "auFknxdHrRsJ"
      },
      "outputs": [],
      "source": [
        "def split_tuple(labels):\n",
        "  label, snr = map(list, zip(*(x.split('_') for x in labels)))\n",
        "  label,snr=np.array(label),np.array(snr)\n",
        "  return label,snr"
      ]
    },
    {
      "cell_type": "code",
      "execution_count": null,
      "metadata": {
        "id": "5mJfcORXPXqM"
      },
      "outputs": [],
      "source": [
        "def create_model():\n",
        "  number_of_channels = 4 \n",
        "  vanilla_rnn_model = Sequential()\n",
        "  vanilla_rnn_model.add(Input(shape=(128,number_of_channels)))\n",
        "  vanilla_rnn_model.add(SimpleRNN(128))\n",
        "  vanilla_rnn_model.add(Dense(10, activation='softmax'))\n",
        "  \n",
        "  return vanilla_rnn_model  "
      ]
    },
    {
      "cell_type": "code",
      "execution_count": null,
      "metadata": {
        "colab": {
          "base_uri": "https://localhost:8080/"
        },
        "id": "r7GPUj75hwXY",
        "outputId": "59dd3e0d-1ab3-461c-cbb2-a6b46db830f6"
      },
      "outputs": [
        {
          "output_type": "execute_result",
          "data": {
            "text/plain": [
              "431"
            ]
          },
          "metadata": {},
          "execution_count": 6
        }
      ],
      "source": [
        "samples = np.load('/content/drive/MyDrive/Colab Notebooks/pattern/lab4/drev_raw.npy')\n",
        "labels = np.load('/content/drive/MyDrive/Colab Notebooks/pattern/lab4/labels.npy')\n",
        "gc.collect()"
      ]
    },
    {
      "cell_type": "code",
      "execution_count": null,
      "metadata": {
        "colab": {
          "base_uri": "https://localhost:8080/"
        },
        "id": "7QVz9uho9IBm",
        "outputId": "0191f2c3-f4ae-4cff-d28d-e39a99994dc3"
      },
      "outputs": [
        {
          "output_type": "execute_result",
          "data": {
            "text/plain": [
              "0"
            ]
          },
          "metadata": {},
          "execution_count": 7
        }
      ],
      "source": [
        "# to encode the labels\n",
        "lb = LabelEncoder()\n",
        "\n",
        "# split data into train and test\n",
        "x_train, x_test, y_train, y_test = train_test_split(samples, labels,test_size=0.3, random_state=1 ,stratify=labels)\n",
        "del samples\n",
        "del labels\n",
        "gc.collect()\n",
        "# take 5% of training set for validation \n",
        "x_train, x_val, y_train, y_val = train_test_split(x_train, y_train,test_size=0.05, random_state=1,stratify=y_train)\n",
        "\n",
        "y_train,snr_train = split_tuple(y_train)\n",
        "y_test,snr_test = split_tuple(y_test)\n",
        "y_val,snr_val=split_tuple(y_val)\n",
        "\n",
        "# encode labels\n",
        "y_train_lb = np_utils.to_categorical(lb.fit_transform(y_train))\n",
        "y_val_lb = np_utils.to_categorical(lb.fit_transform(y_val))\n",
        "del y_train\n",
        "del y_val\n",
        "gc.collect()"
      ]
    },
    {
      "cell_type": "code",
      "execution_count": null,
      "metadata": {
        "colab": {
          "base_uri": "https://localhost:8080/",
          "height": 312
        },
        "id": "Uq82saRr9STD",
        "outputId": "9f2be6fd-a8f1-48e6-ffd2-a31be7d51d80"
      },
      "outputs": [
        {
          "output_type": "execute_result",
          "data": {
            "text/plain": [
              "<IPython.core.display.Image object>"
            ],
            "image/png": "[encoded data removed]"
          },
          "metadata": {},
          "execution_count": 8
        }
      ],
      "source": [
        "# create model\n",
        "model = create_model()\n",
        "model.compile(loss = 'categorical_crossentropy',optimizer = 'Adam', metrics = ['accuracy'])\n",
        "\n",
        "# Save an image of the model's architecture to a file\n",
        "plot_model(model, to_file='Feed Forward NN.png', show_shapes=True, show_layer_names=True)"
      ]
    },
    {
      "cell_type": "code",
      "execution_count": null,
      "metadata": {
        "colab": {
          "base_uri": "https://localhost:8080/",
          "height": 1000
        },
        "id": "nfQFRQv0rIVV",
        "outputId": "21ff1032-b2ac-4e03-ff8b-e036e4fb303a"
      },
      "outputs": [
        {
          "output_type": "stream",
          "name": "stdout",
          "text": [
            "Epoch 1/25\n",
            "12469/12469 [==============================] - 534s 43ms/step - loss: 2.2067 - accuracy: 0.1473 - val_loss: 2.1110 - val_accuracy: 0.1767\n",
            "Epoch 2/25\n",
            "12469/12469 [==============================] - 544s 44ms/step - loss: 2.0462 - accuracy: 0.2011 - val_loss: 2.0262 - val_accuracy: 0.2147\n",
            "Epoch 3/25\n",
            "12469/12469 [==============================] - 551s 44ms/step - loss: 1.9419 - accuracy: 0.2398 - val_loss: 1.9157 - val_accuracy: 0.2411\n",
            "Epoch 4/25\n",
            "12469/12469 [==============================] - 545s 44ms/step - loss: 1.8683 - accuracy: 0.2641 - val_loss: 1.7988 - val_accuracy: 0.2880\n",
            "Epoch 5/25\n",
            "12469/12469 [==============================] - 546s 44ms/step - loss: 1.7663 - accuracy: 0.2970 - val_loss: 1.8036 - val_accuracy: 0.2712\n",
            "Epoch 6/25\n",
            "12469/12469 [==============================] - 546s 44ms/step - loss: 1.7114 - accuracy: 0.3148 - val_loss: 1.6909 - val_accuracy: 0.3244\n",
            "Epoch 7/25\n",
            "12469/12469 [==============================] - 560s 45ms/step - loss: 1.6832 - accuracy: 0.3252 - val_loss: 1.6474 - val_accuracy: 0.3393\n",
            "Epoch 8/25\n",
            "12469/12469 [==============================] - 561s 45ms/step - loss: 1.6623 - accuracy: 0.3327 - val_loss: 1.6366 - val_accuracy: 0.3410\n",
            "Epoch 9/25\n",
            "12469/12469 [==============================] - 564s 45ms/step - loss: 1.6449 - accuracy: 0.3407 - val_loss: 1.6319 - val_accuracy: 0.3495\n",
            "Epoch 10/25\n",
            "12469/12469 [==============================] - 561s 45ms/step - loss: 1.6230 - accuracy: 0.3527 - val_loss: 1.6239 - val_accuracy: 0.3499\n",
            "Epoch 11/25\n",
            "12469/12469 [==============================] - 567s 46ms/step - loss: 1.5896 - accuracy: 0.3696 - val_loss: 1.5891 - val_accuracy: 0.3765\n",
            "Epoch 12/25\n",
            "12469/12469 [==============================] - 557s 45ms/step - loss: 1.5577 - accuracy: 0.3820 - val_loss: 1.5307 - val_accuracy: 0.3942\n",
            "Epoch 13/25\n",
            "12469/12469 [==============================] - 566s 45ms/step - loss: 1.5366 - accuracy: 0.3894 - val_loss: 1.5415 - val_accuracy: 0.3920\n",
            "Epoch 14/25\n",
            "12469/12469 [==============================] - 569s 46ms/step - loss: 1.5223 - accuracy: 0.3947 - val_loss: 1.5198 - val_accuracy: 0.4000\n",
            "Epoch 15/25\n",
            "12469/12469 [==============================] - 568s 46ms/step - loss: 1.5109 - accuracy: 0.3988 - val_loss: 1.4970 - val_accuracy: 0.4026\n",
            "Epoch 16/25\n",
            "12469/12469 [==============================] - 565s 45ms/step - loss: 1.5002 - accuracy: 0.4021 - val_loss: 1.5379 - val_accuracy: 0.3880\n",
            "Epoch 17/25\n",
            "12469/12469 [==============================] - 561s 45ms/step - loss: 1.4909 - accuracy: 0.4062 - val_loss: 1.5017 - val_accuracy: 0.4074\n",
            "Epoch 18/25\n",
            "12469/12469 [==============================] - 559s 45ms/step - loss: 1.4836 - accuracy: 0.4084 - val_loss: 1.4553 - val_accuracy: 0.4188\n",
            "Epoch 19/25\n",
            "12469/12469 [==============================] - 557s 45ms/step - loss: 1.4744 - accuracy: 0.4120 - val_loss: 1.4620 - val_accuracy: 0.4156\n",
            "Epoch 20/25\n",
            "12469/12469 [==============================] - 569s 46ms/step - loss: 1.4675 - accuracy: 0.4146 - val_loss: 1.4687 - val_accuracy: 0.4212\n",
            "Epoch 21/25\n",
            "12469/12469 [==============================] - 564s 45ms/step - loss: 1.4624 - accuracy: 0.4161 - val_loss: 1.4429 - val_accuracy: 0.4233\n",
            "Epoch 22/25\n",
            "12469/12469 [==============================] - 570s 46ms/step - loss: 1.4553 - accuracy: 0.4189 - val_loss: 1.4529 - val_accuracy: 0.4191\n",
            "Epoch 23/25\n",
            "12469/12469 [==============================] - 569s 46ms/step - loss: 1.4510 - accuracy: 0.4214 - val_loss: 1.4478 - val_accuracy: 0.4222\n",
            "Epoch 24/25\n",
            "12469/12469 [==============================] - 569s 46ms/step - loss: 1.4457 - accuracy: 0.4229 - val_loss: 1.4224 - val_accuracy: 0.4334\n",
            "Epoch 25/25\n",
            "12469/12469 [==============================] - 572s 46ms/step - loss: 1.4421 - accuracy: 0.4241 - val_loss: 1.4483 - val_accuracy: 0.4177\n"
          ]
        },
        {
          "output_type": "display_data",
          "data": {
            "text/plain": [
              "<Figure size 432x288 with 1 Axes>"
            ],
            "image/png": "[encoded data removed]"
          },
          "metadata": {
            "needs_background": "light"
          }
        },
        {
          "output_type": "execute_result",
          "data": {
            "text/plain": [
              "3800"
            ]
          },
          "metadata": {},
          "execution_count": 9
        }
      ],
      "source": [
        "gc.collect()\n",
        "model = create_model()\n",
        "opt = tensorflow.keras.optimizers.Adam(learning_rate=1e-4)\n",
        "\n",
        "model.compile(loss = 'categorical_crossentropy',optimizer = opt, metrics = ['accuracy'])\n",
        "# train model\n",
        "cnn_results = model.fit(x_train, y_train_lb,\n",
        "                  epochs = 25,\n",
        "                  verbose = 1,batch_size=64,\n",
        "                  validation_data = (x_val, y_val_lb))\n",
        "model.save('/content/drive/MyDrive/Colab Notebooks/pattern/lab4/data/rnn/derivative_model.h5')\n",
        "# Plot model accuracy over ephocs\n",
        "plt.plot(cnn_results.history['accuracy'])\n",
        "plt.plot(cnn_results.history['val_accuracy'])\n",
        "plt.title('model accuracy')\n",
        "plt.ylabel('accuracy')\n",
        "plt.xlabel('epoch')\n",
        "plt.legend(['train', 'val'], loc='upper left')\n",
        "plt.show()\n",
        "gc.collect()"
      ]
    },
    {
      "cell_type": "code",
      "source": [
        "import keras\n",
        "gc.collect()\n",
        "model = keras.models.load_model('derivative_model.h5')\n",
        "# opt = tensorflow.keras.optimizers.Adam(learning_rate=1e-4)\n",
        "\n",
        "# model.compile(loss = 'categorical_crossentropy',optimizer = opt, metrics = ['accuracy'])# train model\n",
        "cnn_results = model.fit(x_train, y_train_lb,\n",
        "                  epochs = 10,\n",
        "                  verbose = 1,\n",
        "                  validation_data = (x_val, y_val_lb))\n",
        "model.save('derivative_model.h5')\n",
        "# Plot model accuracy over ephocs\n",
        "plt.plot(cnn_results.history['accuracy'])\n",
        "plt.plot(cnn_results.history['val_accuracy'])\n",
        "plt.title('model accuracy')\n",
        "plt.ylabel('accuracy')\n",
        "plt.xlabel('epoch')\n",
        "plt.legend(['train', 'val'], loc='upper left')\n",
        "plt.show()\n",
        "gc.collect()"
      ],
      "metadata": {
        "colab": {
          "base_uri": "https://localhost:8080/",
          "height": 660
        },
        "id": "hPoMNzdix3ZQ",
        "outputId": "dab8f147-70ea-4f25-ff2f-fc671d59ed51"
      },
      "execution_count": null,
      "outputs": [
        {
          "output_type": "stream",
          "name": "stdout",
          "text": [
            "Epoch 1/10\n",
            "24938/24938 [==============================] - 833s 33ms/step - loss: 1.4595 - accuracy: 0.4175 - val_loss: 1.4363 - val_accuracy: 0.4268\n",
            "Epoch 2/10\n",
            "24938/24938 [==============================] - 818s 33ms/step - loss: 1.4544 - accuracy: 0.4193 - val_loss: 1.4337 - val_accuracy: 0.4281\n",
            "Epoch 3/10\n",
            "24938/24938 [==============================] - 824s 33ms/step - loss: 1.4487 - accuracy: 0.4212 - val_loss: 1.4664 - val_accuracy: 0.4126\n",
            "Epoch 4/10\n",
            "24938/24938 [==============================] - 827s 33ms/step - loss: 1.4446 - accuracy: 0.4227 - val_loss: 1.4458 - val_accuracy: 0.4200\n",
            "Epoch 5/10\n",
            "24938/24938 [==============================] - 821s 33ms/step - loss: 1.4392 - accuracy: 0.4245 - val_loss: 1.4155 - val_accuracy: 0.4325\n",
            "Epoch 6/10\n",
            "24938/24938 [==============================] - 814s 33ms/step - loss: 1.4363 - accuracy: 0.4254 - val_loss: 1.4258 - val_accuracy: 0.4270\n",
            "Epoch 7/10\n",
            "24938/24938 [==============================] - 837s 34ms/step - loss: 1.4314 - accuracy: 0.4275 - val_loss: 1.4225 - val_accuracy: 0.4315\n",
            "Epoch 8/10\n",
            "24938/24938 [==============================] - 838s 34ms/step - loss: 1.4279 - accuracy: 0.4281 - val_loss: 1.4370 - val_accuracy: 0.4294\n",
            "Epoch 9/10\n",
            "24938/24938 [==============================] - 840s 34ms/step - loss: 1.4254 - accuracy: 0.4300 - val_loss: 1.4417 - val_accuracy: 0.4161\n",
            "Epoch 10/10\n",
            "24938/24938 [==============================] - 829s 33ms/step - loss: 1.4227 - accuracy: 0.4305 - val_loss: 1.4079 - val_accuracy: 0.4353\n"
          ]
        },
        {
          "output_type": "display_data",
          "data": {
            "text/plain": [
              "<Figure size 432x288 with 1 Axes>"
            ],
            "image/png": "[encoded data removed]"
          },
          "metadata": {
            "needs_background": "light"
          }
        },
        {
          "output_type": "execute_result",
          "data": {
            "text/plain": [
              "8648"
            ]
          },
          "metadata": {},
          "execution_count": 21
        }
      ]
    },
    {
      "cell_type": "code",
      "source": [
        "model.save('/content/drive/MyDrive/Colab Notebooks/pattern/lab4/data/rnn/my_derivative_model.h5')"
      ],
      "metadata": {
        "id": "aSbJ-ViWy7px"
      },
      "execution_count": null,
      "outputs": []
    },
    {
      "cell_type": "code",
      "source": [
        "import keras\n",
        "model = keras.models.load_model('/content/drive/MyDrive/Colab Notebooks/pattern/lab4/data/rnn/der_model.h5')"
      ],
      "metadata": {
        "id": "-gg6ZgGsTDqT"
      },
      "execution_count": null,
      "outputs": []
    },
    {
      "cell_type": "code",
      "execution_count": null,
      "metadata": {
        "colab": {
          "base_uri": "https://localhost:8080/"
        },
        "id": "CKuhvLRQ-S4l",
        "outputId": "75a0a660-9ab5-432e-f387-f56f6c5ebdce"
      },
      "outputs": [
        {
          "output_type": "stream",
          "name": "stdout",
          "text": [
            "Training Accuracy:  0.41976314783096313\n"
          ]
        }
      ],
      "source": [
        "# train accuracy\n",
        "score = model.evaluate(x_train, y_train_lb, verbose=0)\n",
        "print(\"Training Accuracy: \", score[1])"
      ]
    },
    {
      "cell_type": "code",
      "execution_count": null,
      "metadata": {
        "colab": {
          "base_uri": "https://localhost:8080/"
        },
        "id": "c0jtqKUm-c7H",
        "outputId": "ca8180fc-9e2c-45e2-8c14-efecbd22e1be"
      },
      "outputs": [
        {
          "output_type": "stream",
          "name": "stdout",
          "text": [
            "Testing Accuracy:  0.4192916750907898\n"
          ]
        }
      ],
      "source": [
        "# evaluate test set\n",
        "# encode labels\n",
        "y_test_lb = np_utils.to_categorical(lb.fit_transform(y_test))\n",
        "\n",
        "score = model.evaluate(x_test, y_test_lb, verbose=0)\n",
        "print(\"Testing Accuracy: \", score[1])"
      ]
    },
    {
      "cell_type": "code",
      "execution_count": null,
      "metadata": {
        "id": "hH9hE1B1rXZm",
        "colab": {
          "base_uri": "https://localhost:8080/"
        },
        "outputId": "0c06cb54-bd82-4bf8-cd2f-a99caa4234d8"
      },
      "outputs": [
        {
          "output_type": "execute_result",
          "data": {
            "text/plain": [
              "708"
            ]
          },
          "metadata": {},
          "execution_count": 17
        }
      ],
      "source": [
        "del y_test\n",
        "gc.collect()"
      ]
    },
    {
      "cell_type": "code",
      "execution_count": null,
      "metadata": {
        "id": "NRHKqSIA-gQJ"
      },
      "outputs": [],
      "source": [
        "# to get confusion matrix\n",
        "y_test_classes = y_test_lb.argmax(1)\n",
        "y_predicted = model.predict(x_test)\n",
        "y_pred_classes = np.argmax(y_predicted,axis=1)\n",
        "classes = np.load('/content/drive/MyDrive/Colab Notebooks/pattern/lab4/classes.npy')\n"
      ]
    },
    {
      "cell_type": "code",
      "execution_count": null,
      "metadata": {
        "colab": {
          "base_uri": "https://localhost:8080/",
          "height": 432
        },
        "id": "Gpfz-Ck1KZHY",
        "outputId": "7c477511-264d-4de2-d593-55b685aabec6"
      },
      "outputs": [
        {
          "output_type": "stream",
          "name": "stdout",
          "text": [
            "[b'8PSK' b'AM-DSB' b'BPSK' b'CPFSK' b'GFSK' b'PAM4' b'QAM16' b'QAM64'\n",
            " b'QPSK' b'WBFM']\n",
            "The rows represents the true values or observations\n",
            "The columns respresent the model's predictions\n"
          ]
        },
        {
          "output_type": "execute_result",
          "data": {
            "text/plain": [
              "           b'8PSK'  b'AM-DSB'  b'BPSK'  b'CPFSK'  b'GFSK'  b'PAM4'  b'QAM16'  \\\n",
              "b'8PSK'      12826         53     3402      6378     5090       86       217   \n",
              "b'AM-DSB'      333       7002     1143      2943     3576        9         3   \n",
              "b'BPSK'       1420        485    17842      5705     4743      130        32   \n",
              "b'CPFSK'       813         54     2424     24939     5194       34        11   \n",
              "b'GFSK'        388        138     1356      4369    26274       14         1   \n",
              "b'PAM4'       2995        355     3327      4432     3717    12737       511   \n",
              "b'QAM16'     10056         32     2319      4274     3384      111      1147   \n",
              "b'QAM64'      9469         25     2084      3208     2454      117      1222   \n",
              "b'QPSK'       5276         60     4999      6203     4743       84       399   \n",
              "b'WBFM'        297       3498     1135      3029     4756       14         1   \n",
              "\n",
              "           b'QAM64'  b'QPSK'  b'WBFM'  \n",
              "b'8PSK'        1762     4949     1237  \n",
              "b'AM-DSB'        18      610    20363  \n",
              "b'BPSK'         289     3827     1527  \n",
              "b'CPFSK'        107     1147     1277  \n",
              "b'GFSK'          40      680     2740  \n",
              "b'PAM4'        5445     1368     1113  \n",
              "b'QAM16'      11709     2189      779  \n",
              "b'QAM64'      14831     2028      562  \n",
              "b'QPSK'        2370    10693     1173  \n",
              "b'WBFM'          21      595    22654  "
            ],
            "text/html": [
              "\n",
              "  <div id=\"df-9156d0cf-69f8-4784-800c-47a353859622\">\n",
              "    <div class=\"colab-df-container\">\n",
              "      <div>\n",
              "<style scoped>\n",
              "    .dataframe tbody tr th:only-of-type {\n",
              "        vertical-align: middle;\n",
              "    }\n",
              "\n",
              "    .dataframe tbody tr th {\n",
              "        vertical-align: top;\n",
              "    }\n",
              "\n",
              "    .dataframe thead th {\n",
              "        text-align: right;\n",
              "    }\n",
              "</style>\n",
              "<table border=\"1\" class=\"dataframe\">\n",
              "  <thead>\n",
              "    <tr style=\"text-align: right;\">\n",
              "      <th></th>\n",
              "      <th>b'8PSK'</th>\n",
              "      <th>b'AM-DSB'</th>\n",
              "      <th>b'BPSK'</th>\n",
              "      <th>b'CPFSK'</th>\n",
              "      <th>b'GFSK'</th>\n",
              "      <th>b'PAM4'</th>\n",
              "      <th>b'QAM16'</th>\n",
              "      <th>b'QAM64'</th>\n",
              "      <th>b'QPSK'</th>\n",
              "      <th>b'WBFM'</th>\n",
              "    </tr>\n",
              "  </thead>\n",
              "  <tbody>\n",
              "    <tr>\n",
              "      <th>b'8PSK'</th>\n",
              "      <td>12826</td>\n",
              "      <td>53</td>\n",
              "      <td>3402</td>\n",
              "      <td>6378</td>\n",
              "      <td>5090</td>\n",
              "      <td>86</td>\n",
              "      <td>217</td>\n",
              "      <td>1762</td>\n",
              "      <td>4949</td>\n",
              "      <td>1237</td>\n",
              "    </tr>\n",
              "    <tr>\n",
              "      <th>b'AM-DSB'</th>\n",
              "      <td>333</td>\n",
              "      <td>7002</td>\n",
              "      <td>1143</td>\n",
              "      <td>2943</td>\n",
              "      <td>3576</td>\n",
              "      <td>9</td>\n",
              "      <td>3</td>\n",
              "      <td>18</td>\n",
              "      <td>610</td>\n",
              "      <td>20363</td>\n",
              "    </tr>\n",
              "    <tr>\n",
              "      <th>b'BPSK'</th>\n",
              "      <td>1420</td>\n",
              "      <td>485</td>\n",
              "      <td>17842</td>\n",
              "      <td>5705</td>\n",
              "      <td>4743</td>\n",
              "      <td>130</td>\n",
              "      <td>32</td>\n",
              "      <td>289</td>\n",
              "      <td>3827</td>\n",
              "      <td>1527</td>\n",
              "    </tr>\n",
              "    <tr>\n",
              "      <th>b'CPFSK'</th>\n",
              "      <td>813</td>\n",
              "      <td>54</td>\n",
              "      <td>2424</td>\n",
              "      <td>24939</td>\n",
              "      <td>5194</td>\n",
              "      <td>34</td>\n",
              "      <td>11</td>\n",
              "      <td>107</td>\n",
              "      <td>1147</td>\n",
              "      <td>1277</td>\n",
              "    </tr>\n",
              "    <tr>\n",
              "      <th>b'GFSK'</th>\n",
              "      <td>388</td>\n",
              "      <td>138</td>\n",
              "      <td>1356</td>\n",
              "      <td>4369</td>\n",
              "      <td>26274</td>\n",
              "      <td>14</td>\n",
              "      <td>1</td>\n",
              "      <td>40</td>\n",
              "      <td>680</td>\n",
              "      <td>2740</td>\n",
              "    </tr>\n",
              "    <tr>\n",
              "      <th>b'PAM4'</th>\n",
              "      <td>2995</td>\n",
              "      <td>355</td>\n",
              "      <td>3327</td>\n",
              "      <td>4432</td>\n",
              "      <td>3717</td>\n",
              "      <td>12737</td>\n",
              "      <td>511</td>\n",
              "      <td>5445</td>\n",
              "      <td>1368</td>\n",
              "      <td>1113</td>\n",
              "    </tr>\n",
              "    <tr>\n",
              "      <th>b'QAM16'</th>\n",
              "      <td>10056</td>\n",
              "      <td>32</td>\n",
              "      <td>2319</td>\n",
              "      <td>4274</td>\n",
              "      <td>3384</td>\n",
              "      <td>111</td>\n",
              "      <td>1147</td>\n",
              "      <td>11709</td>\n",
              "      <td>2189</td>\n",
              "      <td>779</td>\n",
              "    </tr>\n",
              "    <tr>\n",
              "      <th>b'QAM64'</th>\n",
              "      <td>9469</td>\n",
              "      <td>25</td>\n",
              "      <td>2084</td>\n",
              "      <td>3208</td>\n",
              "      <td>2454</td>\n",
              "      <td>117</td>\n",
              "      <td>1222</td>\n",
              "      <td>14831</td>\n",
              "      <td>2028</td>\n",
              "      <td>562</td>\n",
              "    </tr>\n",
              "    <tr>\n",
              "      <th>b'QPSK'</th>\n",
              "      <td>5276</td>\n",
              "      <td>60</td>\n",
              "      <td>4999</td>\n",
              "      <td>6203</td>\n",
              "      <td>4743</td>\n",
              "      <td>84</td>\n",
              "      <td>399</td>\n",
              "      <td>2370</td>\n",
              "      <td>10693</td>\n",
              "      <td>1173</td>\n",
              "    </tr>\n",
              "    <tr>\n",
              "      <th>b'WBFM'</th>\n",
              "      <td>297</td>\n",
              "      <td>3498</td>\n",
              "      <td>1135</td>\n",
              "      <td>3029</td>\n",
              "      <td>4756</td>\n",
              "      <td>14</td>\n",
              "      <td>1</td>\n",
              "      <td>21</td>\n",
              "      <td>595</td>\n",
              "      <td>22654</td>\n",
              "    </tr>\n",
              "  </tbody>\n",
              "</table>\n",
              "</div>\n",
              "      <button class=\"colab-df-convert\" onclick=\"convertToInteractive('df-9156d0cf-69f8-4784-800c-47a353859622')\"\n",
              "              title=\"Convert this dataframe to an interactive table.\"\n",
              "              style=\"display:none;\">\n",
              "        \n",
              "  <svg xmlns=\"http://www.w3.org/2000/svg\" height=\"24px\"viewBox=\"0 0 24 24\"\n",
              "       width=\"24px\">\n",
              "    <path d=\"M0 0h24v24H0V0z\" fill=\"none\"/>\n",
              "    <path d=\"M18.56 5.44l.94 2.06.94-2.06 2.06-.94-2.06-.94-.94-2.06-.94 2.06-2.06.94zm-11 1L8.5 8.5l.94-2.06 2.06-.94-2.06-.94L8.5 2.5l-.94 2.06-2.06.94zm10 10l.94 2.06.94-2.06 2.06-.94-2.06-.94-.94-2.06-.94 2.06-2.06.94z\"/><path d=\"M17.41 7.96l-1.37-1.37c-.4-.4-.92-.59-1.43-.59-.52 0-1.04.2-1.43.59L10.3 9.45l-7.72 7.72c-.78.78-.78 2.05 0 2.83L4 21.41c.39.39.9.59 1.41.59.51 0 1.02-.2 1.41-.59l7.78-7.78 2.81-2.81c.8-.78.8-2.07 0-2.86zM5.41 20L4 18.59l7.72-7.72 1.47 1.35L5.41 20z\"/>\n",
              "  </svg>\n",
              "      </button>\n",
              "      \n",
              "  <style>\n",
              "    .colab-df-container {\n",
              "      display:flex;\n",
              "      flex-wrap:wrap;\n",
              "      gap: 12px;\n",
              "    }\n",
              "\n",
              "    .colab-df-convert {\n",
              "      background-color: #E8F0FE;\n",
              "      border: none;\n",
              "      border-radius: 50%;\n",
              "      cursor: pointer;\n",
              "      display: none;\n",
              "      fill: #1967D2;\n",
              "      height: 32px;\n",
              "      padding: 0 0 0 0;\n",
              "      width: 32px;\n",
              "    }\n",
              "\n",
              "    .colab-df-convert:hover {\n",
              "      background-color: #E2EBFA;\n",
              "      box-shadow: 0px 1px 2px rgba(60, 64, 67, 0.3), 0px 1px 3px 1px rgba(60, 64, 67, 0.15);\n",
              "      fill: #174EA6;\n",
              "    }\n",
              "\n",
              "    [theme=dark] .colab-df-convert {\n",
              "      background-color: #3B4455;\n",
              "      fill: #D2E3FC;\n",
              "    }\n",
              "\n",
              "    [theme=dark] .colab-df-convert:hover {\n",
              "      background-color: #434B5C;\n",
              "      box-shadow: 0px 1px 3px 1px rgba(0, 0, 0, 0.15);\n",
              "      filter: drop-shadow(0px 1px 2px rgba(0, 0, 0, 0.3));\n",
              "      fill: #FFFFFF;\n",
              "    }\n",
              "  </style>\n",
              "\n",
              "      <script>\n",
              "        const buttonEl =\n",
              "          document.querySelector('#df-9156d0cf-69f8-4784-800c-47a353859622 button.colab-df-convert');\n",
              "        buttonEl.style.display =\n",
              "          google.colab.kernel.accessAllowed ? 'block' : 'none';\n",
              "\n",
              "        async function convertToInteractive(key) {\n",
              "          const element = document.querySelector('#df-9156d0cf-69f8-4784-800c-47a353859622');\n",
              "          const dataTable =\n",
              "            await google.colab.kernel.invokeFunction('convertToInteractive',\n",
              "                                                     [key], {});\n",
              "          if (!dataTable) return;\n",
              "\n",
              "          const docLinkHtml = 'Like what you see? Visit the ' +\n",
              "            '<a target=\"_blank\" href=https://colab.research.google.com/notebooks/data_table.ipynb>data table notebook</a>'\n",
              "            + ' to learn more about interactive tables.';\n",
              "          element.innerHTML = '';\n",
              "          dataTable['output_type'] = 'display_data';\n",
              "          await google.colab.output.renderOutput(dataTable, element);\n",
              "          const docLink = document.createElement('div');\n",
              "          docLink.innerHTML = docLinkHtml;\n",
              "          element.appendChild(docLink);\n",
              "        }\n",
              "      </script>\n",
              "    </div>\n",
              "  </div>\n",
              "  "
            ]
          },
          "metadata": {},
          "execution_count": 26
        }
      ],
      "source": [
        "# get confusion matrix\n",
        "confusion_matrix1 = confusion_matrix(y_true= y_test_classes, y_pred=y_pred_classes)\n",
        "classes = np.array([x[0] for x in classes])\n",
        "classes=np.unique(classes)\n",
        "print(classes)\n",
        "#Add labels to confusion matrix\n",
        "confusion_matrix1 = pd.DataFrame(confusion_matrix1, columns=list(classes), index=list(classes))\n",
        "\n",
        "print(\"The rows represents the true values or observations\")\n",
        "print(\"The columns respresent the model's predictions\")\n",
        "\n",
        "#Print confusion matrix results\n",
        "confusion_matrix1"
      ]
    },
    {
      "cell_type": "code",
      "execution_count": null,
      "metadata": {
        "colab": {
          "base_uri": "https://localhost:8080/",
          "height": 609
        },
        "id": "nPuslHnwtOm0",
        "outputId": "8703cca0-e58e-4443-889b-4b0e95dd0386"
      },
      "outputs": [
        {
          "output_type": "execute_result",
          "data": {
            "text/plain": [
              "<matplotlib.axes._subplots.AxesSubplot at 0x7ff968d39ed0>"
            ]
          },
          "metadata": {},
          "execution_count": 27
        },
        {
          "output_type": "display_data",
          "data": {
            "text/plain": [
              "<Figure size 1080x720 with 2 Axes>"
            ],
            "image/png": "[encoded data removed]"
          },
          "metadata": {
            "needs_background": "light"
          }
        }
      ],
      "source": [
        "# get most confusing classes\n",
        "fig, ax = plt.subplots(figsize=(15,10))         # Sample figsize in inches\n",
        "sns.heatmap(confusion_matrix1, annot=True, linewidths=.5, ax=ax, fmt='g')"
      ]
    },
    {
      "cell_type": "code",
      "execution_count": null,
      "metadata": {
        "colab": {
          "base_uri": "https://localhost:8080/"
        },
        "id": "Sa09wnni-nuD",
        "outputId": "b4431d00-85dc-4726-eda5-55cb858b1125"
      },
      "outputs": [
        {
          "output_type": "stream",
          "name": "stdout",
          "text": [
            "Percision:  0.4617040298683916\n",
            "Recall:  0.4192916666666666\n",
            "F-score:  0.39247437062445634\n"
          ]
        }
      ],
      "source": [
        "# Print f1, precision, and recall scores\n",
        "print(\"Percision: \",precision_score(y_test_classes, y_pred_classes , average=\"macro\"))\n",
        "print(\"Recall: \",recall_score(y_test_classes, y_pred_classes , average=\"macro\"))\n",
        "print(\"F-score: \",f1_score(y_test_classes, y_pred_classes , average=\"macro\"))"
      ]
    },
    {
      "cell_type": "code",
      "execution_count": null,
      "metadata": {
        "id": "zwAmEVVutJbG"
      },
      "outputs": [],
      "source": [
        "# group by snr\n",
        "snr_test = [int(snr) for snr in snr_test]\n",
        "sorted_snrs = np.sort(np.unique(snr_test))\n",
        "x = []\n",
        "y = []\n",
        "for snr in sorted_snrs:\n",
        "  idx = np.where(snr_test == snr)\n",
        "  x.append(snr)\n",
        "  y.append(accuracy_score(np.argmax(y_test_lb[idx], axis = 1), np.argmax(y_predicted[idx], axis = 1)))\n"
      ]
    },
    {
      "cell_type": "code",
      "execution_count": null,
      "metadata": {
        "colab": {
          "base_uri": "https://localhost:8080/",
          "height": 81
        },
        "id": "Kj9jWjpmu-FF",
        "outputId": "ca6a9be3-259e-421e-f202-425d060a69e4"
      },
      "outputs": [
        {
          "output_type": "execute_result",
          "data": {
            "text/plain": [
              "            -20    -18    -16    -14    -12    -10    -8     -6     -4   \\\n",
              "accuracy  10.34  10.96  10.87  12.36  15.02  19.19  24.05  27.45  32.86   \n",
              "\n",
              "            -2      0      2      4      6      8      10     12     14  \\\n",
              "accuracy  44.01  56.92  62.07  62.91  64.02  63.92  64.54  63.99  64.33   \n",
              "\n",
              "             16     18  \n",
              "accuracy  64.57  64.21  "
            ],
            "text/html": [
              "\n",
              "  <div id=\"df-9862d039-b93f-4ec5-acd7-04285b3f4a2f\">\n",
              "    <div class=\"colab-df-container\">\n",
              "      <div>\n",
              "<style scoped>\n",
              "    .dataframe tbody tr th:only-of-type {\n",
              "        vertical-align: middle;\n",
              "    }\n",
              "\n",
              "    .dataframe tbody tr th {\n",
              "        vertical-align: top;\n",
              "    }\n",
              "\n",
              "    .dataframe thead th {\n",
              "        text-align: right;\n",
              "    }\n",
              "</style>\n",
              "<table border=\"1\" class=\"dataframe\">\n",
              "  <thead>\n",
              "    <tr style=\"text-align: right;\">\n",
              "      <th></th>\n",
              "      <th>-20</th>\n",
              "      <th>-18</th>\n",
              "      <th>-16</th>\n",
              "      <th>-14</th>\n",
              "      <th>-12</th>\n",
              "      <th>-10</th>\n",
              "      <th>-8</th>\n",
              "      <th>-6</th>\n",
              "      <th>-4</th>\n",
              "      <th>-2</th>\n",
              "      <th>0</th>\n",
              "      <th>2</th>\n",
              "      <th>4</th>\n",
              "      <th>6</th>\n",
              "      <th>8</th>\n",
              "      <th>10</th>\n",
              "      <th>12</th>\n",
              "      <th>14</th>\n",
              "      <th>16</th>\n",
              "      <th>18</th>\n",
              "    </tr>\n",
              "  </thead>\n",
              "  <tbody>\n",
              "    <tr>\n",
              "      <th>accuracy</th>\n",
              "      <td>10.34</td>\n",
              "      <td>10.96</td>\n",
              "      <td>10.87</td>\n",
              "      <td>12.36</td>\n",
              "      <td>15.02</td>\n",
              "      <td>19.19</td>\n",
              "      <td>24.05</td>\n",
              "      <td>27.45</td>\n",
              "      <td>32.86</td>\n",
              "      <td>44.01</td>\n",
              "      <td>56.92</td>\n",
              "      <td>62.07</td>\n",
              "      <td>62.91</td>\n",
              "      <td>64.02</td>\n",
              "      <td>63.92</td>\n",
              "      <td>64.54</td>\n",
              "      <td>63.99</td>\n",
              "      <td>64.33</td>\n",
              "      <td>64.57</td>\n",
              "      <td>64.21</td>\n",
              "    </tr>\n",
              "  </tbody>\n",
              "</table>\n",
              "</div>\n",
              "      <button class=\"colab-df-convert\" onclick=\"convertToInteractive('df-9862d039-b93f-4ec5-acd7-04285b3f4a2f')\"\n",
              "              title=\"Convert this dataframe to an interactive table.\"\n",
              "              style=\"display:none;\">\n",
              "        \n",
              "  <svg xmlns=\"http://www.w3.org/2000/svg\" height=\"24px\"viewBox=\"0 0 24 24\"\n",
              "       width=\"24px\">\n",
              "    <path d=\"M0 0h24v24H0V0z\" fill=\"none\"/>\n",
              "    <path d=\"M18.56 5.44l.94 2.06.94-2.06 2.06-.94-2.06-.94-.94-2.06-.94 2.06-2.06.94zm-11 1L8.5 8.5l.94-2.06 2.06-.94-2.06-.94L8.5 2.5l-.94 2.06-2.06.94zm10 10l.94 2.06.94-2.06 2.06-.94-2.06-.94-.94-2.06-.94 2.06-2.06.94z\"/><path d=\"M17.41 7.96l-1.37-1.37c-.4-.4-.92-.59-1.43-.59-.52 0-1.04.2-1.43.59L10.3 9.45l-7.72 7.72c-.78.78-.78 2.05 0 2.83L4 21.41c.39.39.9.59 1.41.59.51 0 1.02-.2 1.41-.59l7.78-7.78 2.81-2.81c.8-.78.8-2.07 0-2.86zM5.41 20L4 18.59l7.72-7.72 1.47 1.35L5.41 20z\"/>\n",
              "  </svg>\n",
              "      </button>\n",
              "      \n",
              "  <style>\n",
              "    .colab-df-container {\n",
              "      display:flex;\n",
              "      flex-wrap:wrap;\n",
              "      gap: 12px;\n",
              "    }\n",
              "\n",
              "    .colab-df-convert {\n",
              "      background-color: #E8F0FE;\n",
              "      border: none;\n",
              "      border-radius: 50%;\n",
              "      cursor: pointer;\n",
              "      display: none;\n",
              "      fill: #1967D2;\n",
              "      height: 32px;\n",
              "      padding: 0 0 0 0;\n",
              "      width: 32px;\n",
              "    }\n",
              "\n",
              "    .colab-df-convert:hover {\n",
              "      background-color: #E2EBFA;\n",
              "      box-shadow: 0px 1px 2px rgba(60, 64, 67, 0.3), 0px 1px 3px 1px rgba(60, 64, 67, 0.15);\n",
              "      fill: #174EA6;\n",
              "    }\n",
              "\n",
              "    [theme=dark] .colab-df-convert {\n",
              "      background-color: #3B4455;\n",
              "      fill: #D2E3FC;\n",
              "    }\n",
              "\n",
              "    [theme=dark] .colab-df-convert:hover {\n",
              "      background-color: #434B5C;\n",
              "      box-shadow: 0px 1px 3px 1px rgba(0, 0, 0, 0.15);\n",
              "      filter: drop-shadow(0px 1px 2px rgba(0, 0, 0, 0.3));\n",
              "      fill: #FFFFFF;\n",
              "    }\n",
              "  </style>\n",
              "\n",
              "      <script>\n",
              "        const buttonEl =\n",
              "          document.querySelector('#df-9862d039-b93f-4ec5-acd7-04285b3f4a2f button.colab-df-convert');\n",
              "        buttonEl.style.display =\n",
              "          google.colab.kernel.accessAllowed ? 'block' : 'none';\n",
              "\n",
              "        async function convertToInteractive(key) {\n",
              "          const element = document.querySelector('#df-9862d039-b93f-4ec5-acd7-04285b3f4a2f');\n",
              "          const dataTable =\n",
              "            await google.colab.kernel.invokeFunction('convertToInteractive',\n",
              "                                                     [key], {});\n",
              "          if (!dataTable) return;\n",
              "\n",
              "          const docLinkHtml = 'Like what you see? Visit the ' +\n",
              "            '<a target=\"_blank\" href=https://colab.research.google.com/notebooks/data_table.ipynb>data table notebook</a>'\n",
              "            + ' to learn more about interactive tables.';\n",
              "          element.innerHTML = '';\n",
              "          dataTable['output_type'] = 'display_data';\n",
              "          await google.colab.output.renderOutput(dataTable, element);\n",
              "          const docLink = document.createElement('div');\n",
              "          docLink.innerHTML = docLinkHtml;\n",
              "          element.appendChild(docLink);\n",
              "        }\n",
              "      </script>\n",
              "    </div>\n",
              "  </div>\n",
              "  "
            ]
          },
          "metadata": {},
          "execution_count": 30
        }
      ],
      "source": [
        "# print results of snr\n",
        "pd.DataFrame(data = np.array(y).reshape(1, -1) * 100,  columns = sorted_snrs, index = ['accuracy']).round(2)"
      ]
    },
    {
      "cell_type": "code",
      "execution_count": null,
      "metadata": {
        "colab": {
          "base_uri": "https://localhost:8080/",
          "height": 295
        },
        "id": "pvujwhM9vDmd",
        "outputId": "1b1a4f25-0755-43bb-d0fb-54a07260efac"
      },
      "outputs": [
        {
          "output_type": "display_data",
          "data": {
            "text/plain": [
              "<Figure size 432x288 with 1 Axes>"
            ],
            "image/png": "[encoded data removed]"
          },
          "metadata": {
            "needs_background": "light"
          }
        }
      ],
      "source": [
        "# plot accuracy vs snr\n",
        "plt.xlabel('SNR')\n",
        "plt.ylabel('Accuracy')\n",
        "plt.title('Classification Accuracy over different SNRs')\n",
        "plt.plot(x, np.array(y) * 100, 'bo-')\n",
        "plt.grid(True)"
      ]
    }
  ],
  "metadata": {
    "colab": {
      "collapsed_sections": [],
      "name": " training dervative Rnn_model.ipynb",
      "provenance": []
    },
    "gpuClass": "standard",
    "kernelspec": {
      "display_name": "Python 3",
      "name": "python3"
    },
    "language_info": {
      "name": "python"
    }
  },
  "nbformat": 4,
  "nbformat_minor": 0
}