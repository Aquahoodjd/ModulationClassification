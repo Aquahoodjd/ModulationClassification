{
  "cells": [
    {
      "cell_type": "code",
      "execution_count": null,
      "metadata": {
        "id": "ywwEfCwinI1Z"
      },
      "outputs": [],
      "source": [
        "import numpy as np\n",
        "import pandas as pd\n",
        "import csv\n",
        "import pickle\n",
        "import os\n",
        "import scipy\n",
        "import matplotlib.pyplot as plt\n",
        "from sklearn.preprocessing import LabelEncoder\n",
        "from sklearn.model_selection import train_test_split\n",
        "from sklearn.metrics import confusion_matrix\n",
        "from sklearn.metrics import classification_report\n",
        "from sklearn.metrics import f1_score, precision_score, recall_score, confusion_matrix, accuracy_score\n",
        "import seaborn as sns\n",
        "from keras.utils import np_utils\n",
        "from keras.layers import LSTM, BatchNormalization, SimpleRNN\n",
        "from keras import Input\n",
        "import tensorflow\n",
        "from tensorflow.keras.utils import plot_model\n",
        "from tensorflow.keras.models import Sequential\n",
        "from tensorflow.keras.layers import Conv2D\n",
        "from tensorflow.keras.layers import MaxPool2D\n",
        "from tensorflow.keras.layers import Flatten\n",
        "from tensorflow.keras.layers import Dropout\n",
        "from tensorflow.keras.layers import Dense\n",
        "import gc"
      ]
    },
    {
      "cell_type": "code",
      "execution_count": null,
      "metadata": {
        "colab": {
          "base_uri": "https://localhost:8080/"
        },
        "id": "Njns266FnlwZ",
        "outputId": "69f6be18-ee5a-4a6a-e774-00b2436e78ed"
      },
      "outputs": [
        {
          "output_type": "stream",
          "name": "stdout",
          "text": [
            "Drive already mounted at /content/drive; to attempt to forcibly remount, call drive.mount(\"/content/drive\", force_remount=True).\n"
          ]
        }
      ],
      "source": [
        "from google.colab import drive\n",
        "drive.mount('/content/drive')"
      ]
    },
    {
      "cell_type": "code",
      "source": [
        "# enable gpu\n",
        "from keras import backend as K\n",
        "K._get_available_gpus()"
      ],
      "metadata": {
        "id": "Hhdr40tprK5c",
        "colab": {
          "base_uri": "https://localhost:8080/"
        },
        "outputId": "c4e30c01-36b2-479a-926a-78f7151d6c46"
      },
      "execution_count": null,
      "outputs": [
        {
          "output_type": "execute_result",
          "data": {
            "text/plain": [
              "[]"
            ]
          },
          "metadata": {},
          "execution_count": 3
        }
      ]
    },
    {
      "cell_type": "code",
      "source": [
        "def split_tuple(labels):\n",
        "  label, snr = map(list, zip(*(x.split('_') for x in labels)))\n",
        "  label,snr=np.array(label),np.array(snr)\n",
        "  return label,snr"
      ],
      "metadata": {
        "id": "auFknxdHrRsJ"
      },
      "execution_count": null,
      "outputs": []
    },
    {
      "cell_type": "code",
      "execution_count": null,
      "metadata": {
        "id": "5mJfcORXPXqM"
      },
      "outputs": [],
      "source": [
        "def create_model():\n",
        "  number_of_channels = 4 \n",
        "  vanilla_rnn_model = Sequential()\n",
        "  vanilla_rnn_model.add(Input(shape=(128,number_of_channels)))\n",
        "  vanilla_rnn_model.add(SimpleRNN(128))\n",
        "  vanilla_rnn_model.add(Dense(10, activation='softmax'))\n",
        "  \n",
        "  return vanilla_rnn_model  "
      ]
    },
    {
      "cell_type": "code",
      "source": [
        "#change paths\n",
        "samples = np.load('/content/drive/MyDrive/Colab Notebooks/pattern/lab4/integral.npy')\n",
        "labels = np.load('/content/drive/MyDrive/Colab Notebooks/pattern/lab4/labels.npy')\n",
        "gc.collect()"
      ],
      "metadata": {
        "colab": {
          "base_uri": "https://localhost:8080/"
        },
        "id": "r7GPUj75hwXY",
        "outputId": "c9f78805-a407-4b30-e824-1e255ea5e19f"
      },
      "execution_count": null,
      "outputs": [
        {
          "output_type": "execute_result",
          "data": {
            "text/plain": [
              "137"
            ]
          },
          "metadata": {},
          "execution_count": 7
        }
      ]
    },
    {
      "cell_type": "code",
      "source": [
        "# to encode the labels\n",
        "lb = LabelEncoder()\n",
        "\n",
        "# split data into train and test\n",
        "x_train, x_test, y_train, y_test = train_test_split(samples, labels,test_size=0.3, random_state=1 ,stratify=labels)\n",
        "del samples\n",
        "del labels\n",
        "gc.collect()\n",
        "# take 5% of training set for validation \n",
        "x_train, x_val, y_train, y_val = train_test_split(x_train, y_train,test_size=0.05, random_state=1,stratify=y_train)\n",
        "\n",
        "y_train,snr_train = split_tuple(y_train)\n",
        "y_test,snr_test = split_tuple(y_test)\n",
        "y_val,snr_val=split_tuple(y_val)\n",
        "\n",
        "# encode labels\n",
        "y_train_lb = np_utils.to_categorical(lb.fit_transform(y_train))\n",
        "y_val_lb = np_utils.to_categorical(lb.fit_transform(y_val))\n",
        "del y_train\n",
        "del y_val\n",
        "gc.collect()"
      ],
      "metadata": {
        "id": "7QVz9uho9IBm",
        "colab": {
          "base_uri": "https://localhost:8080/"
        },
        "outputId": "52272dd4-7975-409b-af73-b7915681a3e3"
      },
      "execution_count": null,
      "outputs": [
        {
          "output_type": "execute_result",
          "data": {
            "text/plain": [
              "0"
            ]
          },
          "metadata": {},
          "execution_count": 8
        }
      ]
    },
    {
      "cell_type": "code",
      "source": [
        "# create model\n",
        "model = create_model()\n",
        "model.compile(loss = 'categorical_crossentropy',optimizer = 'Adam', metrics = ['accuracy'])\n",
        "\n",
        "# Save an image of the model's architecture to a file\n",
        "plot_model(model, to_file='Feed Forward NN.png', show_shapes=True, show_layer_names=True)"
      ],
      "metadata": {
        "id": "Uq82saRr9STD",
        "colab": {
          "base_uri": "https://localhost:8080/",
          "height": 312
        },
        "outputId": "f30706eb-acfe-4d0e-a9e3-2eb38c48c8e7"
      },
      "execution_count": null,
      "outputs": [
        {
          "output_type": "execute_result",
          "data": {
            "text/plain": [
              "<IPython.core.display.Image object>"
            ],
            "image/png": "[encoded data removed]"
          },
          "metadata": {},
          "execution_count": 9
        }
      ]
    },
    {
      "cell_type": "code",
      "source": [
        "gc.collect()\n",
        "model = create_model()\n",
        "opt = tensorflow.keras.optimizers.Adam(learning_rate=1e-4)\n",
        "\n",
        "model.compile(loss = 'categorical_crossentropy',optimizer = opt, metrics = ['accuracy'])# train model\n",
        "cnn_results = model.fit(x_train, y_train_lb,\n",
        "                  epochs = 15,\n",
        "                  verbose = 1,\n",
        "                  validation_data = (x_val, y_val_lb))\n",
        "model.save('/content/drive/MyDrive/Colab Notebooks/pattern/lab4/data/rnn/64_dropout_model.h5')\n",
        "# Plot model accuracy over ephocs\n",
        "plt.plot(cnn_results.history['accuracy'])\n",
        "plt.plot(cnn_results.history['val_accuracy'])\n",
        "plt.title('model accuracy')\n",
        "plt.ylabel('accuracy')\n",
        "plt.xlabel('epoch')\n",
        "plt.legend(['train', 'val'], loc='upper left')\n",
        "plt.show()\n",
        "gc.collect()"
      ],
      "metadata": {
        "colab": {
          "base_uri": "https://localhost:8080/",
          "height": 833
        },
        "id": "nfQFRQv0rIVV",
        "outputId": "a2c0eee2-89a7-4032-f6aa-195c2d308dbd"
      },
      "execution_count": null,
      "outputs": [
        {
          "output_type": "stream",
          "name": "stdout",
          "text": [
            "Epoch 1/15\n",
            "24938/24938 [==============================] - 754s 30ms/step - loss: 2.1126 - accuracy: 0.1725 - val_loss: 1.9488 - val_accuracy: 0.2369\n",
            "Epoch 2/15\n",
            "24938/24938 [==============================] - 831s 33ms/step - loss: 1.8424 - accuracy: 0.2717 - val_loss: 1.7627 - val_accuracy: 0.2953\n",
            "Epoch 3/15\n",
            "24938/24938 [==============================] - 810s 32ms/step - loss: 1.6985 - accuracy: 0.3172 - val_loss: 1.6864 - val_accuracy: 0.3192\n",
            "Epoch 4/15\n",
            "24938/24938 [==============================] - 824s 33ms/step - loss: 1.6550 - accuracy: 0.3351 - val_loss: 1.6192 - val_accuracy: 0.3534\n",
            "Epoch 5/15\n",
            "24938/24938 [==============================] - 790s 32ms/step - loss: 1.6124 - accuracy: 0.3597 - val_loss: 1.5796 - val_accuracy: 0.3688\n",
            "Epoch 6/15\n",
            "24938/24938 [==============================] - 812s 33ms/step - loss: 1.5638 - accuracy: 0.3808 - val_loss: 1.6012 - val_accuracy: 0.3629\n",
            "Epoch 7/15\n",
            "24938/24938 [==============================] - 824s 33ms/step - loss: 1.5313 - accuracy: 0.3914 - val_loss: 1.5482 - val_accuracy: 0.3857\n",
            "Epoch 8/15\n",
            "24938/24938 [==============================] - 829s 33ms/step - loss: 1.5089 - accuracy: 0.3985 - val_loss: 1.4800 - val_accuracy: 0.4073\n",
            "Epoch 9/15\n",
            "24938/24938 [==============================] - 812s 33ms/step - loss: 1.4898 - accuracy: 0.4040 - val_loss: 1.4989 - val_accuracy: 0.3973\n",
            "Epoch 10/15\n",
            "24938/24938 [==============================] - 795s 32ms/step - loss: 1.4728 - accuracy: 0.4101 - val_loss: 1.4589 - val_accuracy: 0.4151\n",
            "Epoch 11/15\n",
            "24938/24938 [==============================] - 797s 32ms/step - loss: 1.4591 - accuracy: 0.4151 - val_loss: 1.4911 - val_accuracy: 0.4027\n",
            "Epoch 12/15\n",
            "24938/24938 [==============================] - 788s 32ms/step - loss: 1.4471 - accuracy: 0.4192 - val_loss: 1.4435 - val_accuracy: 0.4203\n",
            "Epoch 13/15\n",
            "24938/24938 [==============================] - 806s 32ms/step - loss: 1.4367 - accuracy: 0.4234 - val_loss: 1.4154 - val_accuracy: 0.4353\n",
            "Epoch 14/15\n",
            "24938/24938 [==============================] - 804s 32ms/step - loss: 1.4276 - accuracy: 0.4263 - val_loss: 1.4538 - val_accuracy: 0.4170\n",
            "Epoch 15/15\n",
            "24938/24938 [==============================] - 810s 32ms/step - loss: 1.4171 - accuracy: 0.4288 - val_loss: 1.4054 - val_accuracy: 0.4322\n"
          ]
        },
        {
          "output_type": "display_data",
          "data": {
            "text/plain": [
              "<Figure size 432x288 with 1 Axes>"
            ],
            "image/png": "[encoded data removed]"
          },
          "metadata": {
            "needs_background": "light"
          }
        },
        {
          "output_type": "execute_result",
          "data": {
            "text/plain": [
              "3858"
            ]
          },
          "metadata": {},
          "execution_count": 10
        }
      ]
    },
    {
      "cell_type": "code",
      "source": [
        "model.save('/content/drive/MyDrive/Colab Notebooks/pattern/lab4/data/rnn/100_nodrop_model.h5')"
      ],
      "metadata": {
        "id": "ZZnSY0bnkHH-"
      },
      "execution_count": null,
      "outputs": []
    },
    {
      "cell_type": "code",
      "source": [
        "import keras\n",
        "gc.collect()\n",
        "model = keras.models.load_model('/content/drive/MyDrive/Colab Notebooks/pattern/lab4/data/rnn/100_nodrop_model.h5')\n",
        "# opt = tensorflow.keras.optimizers.Adam(learning_rate=1e-4)\n",
        "\n",
        "# model.compile(loss = 'categorical_crossentropy',optimizer = opt, metrics = ['accuracy'])# train model\n",
        "cnn_results = model.fit(x_train, y_train_lb,\n",
        "                  epochs = 10,\n",
        "                  verbose = 1,\n",
        "                  validation_data = (x_val, y_val_lb))\n",
        "model.save('/content/drive/MyDrive/Colab Notebooks/pattern/lab4/data/rnn/100_nodrop_model.h5')\n",
        "# Plot model accuracy over ephocs\n",
        "plt.plot(cnn_results.history['accuracy'])\n",
        "plt.plot(cnn_results.history['val_accuracy'])\n",
        "plt.title('model accuracy')\n",
        "plt.ylabel('accuracy')\n",
        "plt.xlabel('epoch')\n",
        "plt.legend(['train', 'val'], loc='upper left')\n",
        "plt.show()\n",
        "gc.collect()"
      ],
      "metadata": {
        "colab": {
          "base_uri": "https://localhost:8080/",
          "height": 660
        },
        "id": "szr_mI7ly91d",
        "outputId": "a25ab251-fffd-4cbc-bbff-43aa18bdb7e7"
      },
      "execution_count": null,
      "outputs": [
        {
          "output_type": "stream",
          "name": "stdout",
          "text": [
            "Epoch 1/10\n",
            "24938/24938 [==============================] - 768s 31ms/step - loss: 1.4087 - accuracy: 0.4317 - val_loss: 1.3826 - val_accuracy: 0.4412\n",
            "Epoch 2/10\n",
            "24938/24938 [==============================] - 773s 31ms/step - loss: 1.3985 - accuracy: 0.4337 - val_loss: 1.3828 - val_accuracy: 0.4356\n",
            "Epoch 3/10\n",
            "24938/24938 [==============================] - 783s 31ms/step - loss: 1.3797 - accuracy: 0.4385 - val_loss: 1.3430 - val_accuracy: 0.4524\n",
            "Epoch 4/10\n",
            "24938/24938 [==============================] - 781s 31ms/step - loss: 1.3417 - accuracy: 0.4516 - val_loss: 1.3065 - val_accuracy: 0.4627\n",
            "Epoch 5/10\n",
            "24938/24938 [==============================] - 776s 31ms/step - loss: 1.2881 - accuracy: 0.4707 - val_loss: 1.2464 - val_accuracy: 0.4864\n",
            "Epoch 6/10\n",
            "24938/24938 [==============================] - 793s 32ms/step - loss: 1.2515 - accuracy: 0.4846 - val_loss: 1.2208 - val_accuracy: 0.5005\n",
            "Epoch 7/10\n",
            "24938/24938 [==============================] - 831s 33ms/step - loss: 1.2230 - accuracy: 0.4945 - val_loss: 1.2709 - val_accuracy: 0.4762\n",
            "Epoch 8/10\n",
            "24938/24938 [==============================] - 807s 32ms/step - loss: 1.2025 - accuracy: 0.5010 - val_loss: 1.1948 - val_accuracy: 0.5003\n",
            "Epoch 9/10\n",
            "24938/24938 [==============================] - 838s 34ms/step - loss: 1.1850 - accuracy: 0.5076 - val_loss: 1.2004 - val_accuracy: 0.5043\n",
            "Epoch 10/10\n",
            "24938/24938 [==============================] - 795s 32ms/step - loss: 1.1671 - accuracy: 0.5135 - val_loss: 1.1602 - val_accuracy: 0.5185\n"
          ]
        },
        {
          "output_type": "display_data",
          "data": {
            "text/plain": [
              "<Figure size 432x288 with 1 Axes>"
            ],
            "image/png": "[encoded data removed]"
          },
          "metadata": {
            "needs_background": "light"
          }
        },
        {
          "output_type": "execute_result",
          "data": {
            "text/plain": [
              "8648"
            ]
          },
          "metadata": {},
          "execution_count": 12
        }
      ]
    },
    {
      "cell_type": "code",
      "source": [
        "del x_val\n",
        "del y_val_lb\n",
        "gc.collect()"
      ],
      "metadata": {
        "id": "KSEIFw7_p1BD"
      },
      "execution_count": null,
      "outputs": []
    },
    {
      "cell_type": "code",
      "source": [
        "# train accuracy\n",
        "score = model.evaluate(x_train, y_train_lb, verbose=0)\n",
        "print(\"Training Accuracy: \", score[1])"
      ],
      "metadata": {
        "id": "CKuhvLRQ-S4l",
        "colab": {
          "base_uri": "https://localhost:8080/"
        },
        "outputId": "0aa225d5-e94d-4490-ca00-c71e30b87838"
      },
      "execution_count": null,
      "outputs": [
        {
          "output_type": "stream",
          "name": "stdout",
          "text": [
            "Training Accuracy:  0.5173671841621399\n"
          ]
        }
      ]
    },
    {
      "cell_type": "code",
      "source": [
        "del x_train\n",
        "del y_train_lb\n",
        "gc.collect()"
      ],
      "metadata": {
        "id": "7KjkxUB9qH8K"
      },
      "execution_count": null,
      "outputs": []
    },
    {
      "cell_type": "code",
      "source": [
        "# evaluate test set\n",
        "# encode labels\n",
        "y_test_lb = np_utils.to_categorical(lb.fit_transform(y_test))\n",
        "\n",
        "score = model.evaluate(x_test, y_test_lb, verbose=0)\n",
        "print(\"Testing Accuracy: \", score[1])"
      ],
      "metadata": {
        "id": "c0jtqKUm-c7H",
        "colab": {
          "base_uri": "https://localhost:8080/"
        },
        "outputId": "d32d4eb0-061b-4ee7-864e-058cd20054d3"
      },
      "execution_count": null,
      "outputs": [
        {
          "output_type": "stream",
          "name": "stdout",
          "text": [
            "Testing Accuracy:  0.516700029373169\n"
          ]
        }
      ]
    },
    {
      "cell_type": "code",
      "source": [
        "del y_test\n",
        "gc.collect()"
      ],
      "metadata": {
        "id": "RqW_jGJaqamU"
      },
      "execution_count": null,
      "outputs": []
    },
    {
      "cell_type": "code",
      "source": [
        "# to get confusion matrix\n",
        "y_test_classes = y_test_lb.argmax(1)\n",
        "y_predicted = model.predict(x_test)\n",
        "y_pred_classes = np.argmax(y_predicted,axis=1)\n",
        "classes = np.load('/content/drive/MyDrive/Colab Notebooks/pattern/lab4/classes.npy')"
      ],
      "metadata": {
        "id": "NRHKqSIA-gQJ"
      },
      "execution_count": null,
      "outputs": []
    },
    {
      "cell_type": "code",
      "source": [
        "# get confusion matrix\n",
        "confusion_matrix1 = confusion_matrix(y_true= y_test_classes, y_pred=y_pred_classes)\n",
        "classes = np.array([x[0] for x in classes])\n",
        "classes=np.unique(classes)\n",
        "print(classes)\n",
        "#Add labels to confusion matrix\n",
        "confusion_matrix1 = pd.DataFrame(confusion_matrix1, columns=list(classes), index=list(classes))\n",
        "\n",
        "print(\"The rows represents the true values or observations\")\n",
        "print(\"The columns respresent the model's predictions\")\n",
        "\n",
        "#Print confusion matrix results\n",
        "confusion_matrix1"
      ],
      "metadata": {
        "id": "Gpfz-Ck1KZHY",
        "colab": {
          "base_uri": "https://localhost:8080/",
          "height": 432
        },
        "outputId": "ae2576b6-f317-4a30-b443-960df9792ca5"
      },
      "execution_count": null,
      "outputs": [
        {
          "output_type": "stream",
          "name": "stdout",
          "text": [
            "[b'8PSK' b'AM-DSB' b'BPSK' b'CPFSK' b'GFSK' b'PAM4' b'QAM16' b'QAM64'\n",
            " b'QPSK' b'WBFM']\n",
            "The rows represents the true values or observations\n",
            "The columns respresent the model's predictions\n"
          ]
        },
        {
          "output_type": "execute_result",
          "data": {
            "text/plain": [
              "           b'8PSK'  b'AM-DSB'  b'BPSK'  b'CPFSK'  b'GFSK'  b'PAM4'  b'QAM16'  \\\n",
              "b'8PSK'      17217        694     4202      2128     1931     1343      1587   \n",
              "b'AM-DSB'     1125      22153     2427       897     2075      519       147   \n",
              "b'BPSK'       1795        755    24542      1425     1655     2702       492   \n",
              "b'CPFSK'      1825        784     3776     23173     2336     1050       536   \n",
              "b'GFSK'       1494       1101     3386      1906    24532      847       319   \n",
              "b'PAM4'       1190        592     4338      1007     1168    25279       462   \n",
              "b'QAM16'      2093        455     2802      1400     1304     1311      3333   \n",
              "b'QAM64'      1574        303     1943      1034      988     1150      3383   \n",
              "b'QPSK'       8021        734     4255      2098     1812     1319      1391   \n",
              "b'WBFM'       1086      16902     2552       936     5796      582       176   \n",
              "\n",
              "           b'QAM64'  b'QPSK'  b'WBFM'  \n",
              "b'8PSK'        1297     5091      510  \n",
              "b'AM-DSB'        14     1042     5601  \n",
              "b'BPSK'         161     1966      507  \n",
              "b'CPFSK'         84     1942      494  \n",
              "b'GFSK'          38     1497      880  \n",
              "b'PAM4'         268     1318      378  \n",
              "b'QAM16'      21034     1941      327  \n",
              "b'QAM64'      23892     1530      203  \n",
              "b'QPSK'         825    15038      507  \n",
              "b'WBFM'          12     1105     6853  "
            ],
            "text/html": [
              "\n",
              "  <div id=\"df-49a83fab-c331-42d5-8601-fedf3bc63869\">\n",
              "    <div class=\"colab-df-container\">\n",
              "      <div>\n",
              "<style scoped>\n",
              "    .dataframe tbody tr th:only-of-type {\n",
              "        vertical-align: middle;\n",
              "    }\n",
              "\n",
              "    .dataframe tbody tr th {\n",
              "        vertical-align: top;\n",
              "    }\n",
              "\n",
              "    .dataframe thead th {\n",
              "        text-align: right;\n",
              "    }\n",
              "</style>\n",
              "<table border=\"1\" class=\"dataframe\">\n",
              "  <thead>\n",
              "    <tr style=\"text-align: right;\">\n",
              "      <th></th>\n",
              "      <th>b'8PSK'</th>\n",
              "      <th>b'AM-DSB'</th>\n",
              "      <th>b'BPSK'</th>\n",
              "      <th>b'CPFSK'</th>\n",
              "      <th>b'GFSK'</th>\n",
              "      <th>b'PAM4'</th>\n",
              "      <th>b'QAM16'</th>\n",
              "      <th>b'QAM64'</th>\n",
              "      <th>b'QPSK'</th>\n",
              "      <th>b'WBFM'</th>\n",
              "    </tr>\n",
              "  </thead>\n",
              "  <tbody>\n",
              "    <tr>\n",
              "      <th>b'8PSK'</th>\n",
              "      <td>17217</td>\n",
              "      <td>694</td>\n",
              "      <td>4202</td>\n",
              "      <td>2128</td>\n",
              "      <td>1931</td>\n",
              "      <td>1343</td>\n",
              "      <td>1587</td>\n",
              "      <td>1297</td>\n",
              "      <td>5091</td>\n",
              "      <td>510</td>\n",
              "    </tr>\n",
              "    <tr>\n",
              "      <th>b'AM-DSB'</th>\n",
              "      <td>1125</td>\n",
              "      <td>22153</td>\n",
              "      <td>2427</td>\n",
              "      <td>897</td>\n",
              "      <td>2075</td>\n",
              "      <td>519</td>\n",
              "      <td>147</td>\n",
              "      <td>14</td>\n",
              "      <td>1042</td>\n",
              "      <td>5601</td>\n",
              "    </tr>\n",
              "    <tr>\n",
              "      <th>b'BPSK'</th>\n",
              "      <td>1795</td>\n",
              "      <td>755</td>\n",
              "      <td>24542</td>\n",
              "      <td>1425</td>\n",
              "      <td>1655</td>\n",
              "      <td>2702</td>\n",
              "      <td>492</td>\n",
              "      <td>161</td>\n",
              "      <td>1966</td>\n",
              "      <td>507</td>\n",
              "    </tr>\n",
              "    <tr>\n",
              "      <th>b'CPFSK'</th>\n",
              "      <td>1825</td>\n",
              "      <td>784</td>\n",
              "      <td>3776</td>\n",
              "      <td>23173</td>\n",
              "      <td>2336</td>\n",
              "      <td>1050</td>\n",
              "      <td>536</td>\n",
              "      <td>84</td>\n",
              "      <td>1942</td>\n",
              "      <td>494</td>\n",
              "    </tr>\n",
              "    <tr>\n",
              "      <th>b'GFSK'</th>\n",
              "      <td>1494</td>\n",
              "      <td>1101</td>\n",
              "      <td>3386</td>\n",
              "      <td>1906</td>\n",
              "      <td>24532</td>\n",
              "      <td>847</td>\n",
              "      <td>319</td>\n",
              "      <td>38</td>\n",
              "      <td>1497</td>\n",
              "      <td>880</td>\n",
              "    </tr>\n",
              "    <tr>\n",
              "      <th>b'PAM4'</th>\n",
              "      <td>1190</td>\n",
              "      <td>592</td>\n",
              "      <td>4338</td>\n",
              "      <td>1007</td>\n",
              "      <td>1168</td>\n",
              "      <td>25279</td>\n",
              "      <td>462</td>\n",
              "      <td>268</td>\n",
              "      <td>1318</td>\n",
              "      <td>378</td>\n",
              "    </tr>\n",
              "    <tr>\n",
              "      <th>b'QAM16'</th>\n",
              "      <td>2093</td>\n",
              "      <td>455</td>\n",
              "      <td>2802</td>\n",
              "      <td>1400</td>\n",
              "      <td>1304</td>\n",
              "      <td>1311</td>\n",
              "      <td>3333</td>\n",
              "      <td>21034</td>\n",
              "      <td>1941</td>\n",
              "      <td>327</td>\n",
              "    </tr>\n",
              "    <tr>\n",
              "      <th>b'QAM64'</th>\n",
              "      <td>1574</td>\n",
              "      <td>303</td>\n",
              "      <td>1943</td>\n",
              "      <td>1034</td>\n",
              "      <td>988</td>\n",
              "      <td>1150</td>\n",
              "      <td>3383</td>\n",
              "      <td>23892</td>\n",
              "      <td>1530</td>\n",
              "      <td>203</td>\n",
              "    </tr>\n",
              "    <tr>\n",
              "      <th>b'QPSK'</th>\n",
              "      <td>8021</td>\n",
              "      <td>734</td>\n",
              "      <td>4255</td>\n",
              "      <td>2098</td>\n",
              "      <td>1812</td>\n",
              "      <td>1319</td>\n",
              "      <td>1391</td>\n",
              "      <td>825</td>\n",
              "      <td>15038</td>\n",
              "      <td>507</td>\n",
              "    </tr>\n",
              "    <tr>\n",
              "      <th>b'WBFM'</th>\n",
              "      <td>1086</td>\n",
              "      <td>16902</td>\n",
              "      <td>2552</td>\n",
              "      <td>936</td>\n",
              "      <td>5796</td>\n",
              "      <td>582</td>\n",
              "      <td>176</td>\n",
              "      <td>12</td>\n",
              "      <td>1105</td>\n",
              "      <td>6853</td>\n",
              "    </tr>\n",
              "  </tbody>\n",
              "</table>\n",
              "</div>\n",
              "      <button class=\"colab-df-convert\" onclick=\"convertToInteractive('df-49a83fab-c331-42d5-8601-fedf3bc63869')\"\n",
              "              title=\"Convert this dataframe to an interactive table.\"\n",
              "              style=\"display:none;\">\n",
              "        \n",
              "  <svg xmlns=\"http://www.w3.org/2000/svg\" height=\"24px\"viewBox=\"0 0 24 24\"\n",
              "       width=\"24px\">\n",
              "    <path d=\"M0 0h24v24H0V0z\" fill=\"none\"/>\n",
              "    <path d=\"M18.56 5.44l.94 2.06.94-2.06 2.06-.94-2.06-.94-.94-2.06-.94 2.06-2.06.94zm-11 1L8.5 8.5l.94-2.06 2.06-.94-2.06-.94L8.5 2.5l-.94 2.06-2.06.94zm10 10l.94 2.06.94-2.06 2.06-.94-2.06-.94-.94-2.06-.94 2.06-2.06.94z\"/><path d=\"M17.41 7.96l-1.37-1.37c-.4-.4-.92-.59-1.43-.59-.52 0-1.04.2-1.43.59L10.3 9.45l-7.72 7.72c-.78.78-.78 2.05 0 2.83L4 21.41c.39.39.9.59 1.41.59.51 0 1.02-.2 1.41-.59l7.78-7.78 2.81-2.81c.8-.78.8-2.07 0-2.86zM5.41 20L4 18.59l7.72-7.72 1.47 1.35L5.41 20z\"/>\n",
              "  </svg>\n",
              "      </button>\n",
              "      \n",
              "  <style>\n",
              "    .colab-df-container {\n",
              "      display:flex;\n",
              "      flex-wrap:wrap;\n",
              "      gap: 12px;\n",
              "    }\n",
              "\n",
              "    .colab-df-convert {\n",
              "      background-color: #E8F0FE;\n",
              "      border: none;\n",
              "      border-radius: 50%;\n",
              "      cursor: pointer;\n",
              "      display: none;\n",
              "      fill: #1967D2;\n",
              "      height: 32px;\n",
              "      padding: 0 0 0 0;\n",
              "      width: 32px;\n",
              "    }\n",
              "\n",
              "    .colab-df-convert:hover {\n",
              "      background-color: #E2EBFA;\n",
              "      box-shadow: 0px 1px 2px rgba(60, 64, 67, 0.3), 0px 1px 3px 1px rgba(60, 64, 67, 0.15);\n",
              "      fill: #174EA6;\n",
              "    }\n",
              "\n",
              "    [theme=dark] .colab-df-convert {\n",
              "      background-color: #3B4455;\n",
              "      fill: #D2E3FC;\n",
              "    }\n",
              "\n",
              "    [theme=dark] .colab-df-convert:hover {\n",
              "      background-color: #434B5C;\n",
              "      box-shadow: 0px 1px 3px 1px rgba(0, 0, 0, 0.15);\n",
              "      filter: drop-shadow(0px 1px 2px rgba(0, 0, 0, 0.3));\n",
              "      fill: #FFFFFF;\n",
              "    }\n",
              "  </style>\n",
              "\n",
              "      <script>\n",
              "        const buttonEl =\n",
              "          document.querySelector('#df-49a83fab-c331-42d5-8601-fedf3bc63869 button.colab-df-convert');\n",
              "        buttonEl.style.display =\n",
              "          google.colab.kernel.accessAllowed ? 'block' : 'none';\n",
              "\n",
              "        async function convertToInteractive(key) {\n",
              "          const element = document.querySelector('#df-49a83fab-c331-42d5-8601-fedf3bc63869');\n",
              "          const dataTable =\n",
              "            await google.colab.kernel.invokeFunction('convertToInteractive',\n",
              "                                                     [key], {});\n",
              "          if (!dataTable) return;\n",
              "\n",
              "          const docLinkHtml = 'Like what you see? Visit the ' +\n",
              "            '<a target=\"_blank\" href=https://colab.research.google.com/notebooks/data_table.ipynb>data table notebook</a>'\n",
              "            + ' to learn more about interactive tables.';\n",
              "          element.innerHTML = '';\n",
              "          dataTable['output_type'] = 'display_data';\n",
              "          await google.colab.output.renderOutput(dataTable, element);\n",
              "          const docLink = document.createElement('div');\n",
              "          docLink.innerHTML = docLinkHtml;\n",
              "          element.appendChild(docLink);\n",
              "        }\n",
              "      </script>\n",
              "    </div>\n",
              "  </div>\n",
              "  "
            ]
          },
          "metadata": {},
          "execution_count": 22
        }
      ]
    },
    {
      "cell_type": "code",
      "source": [
        "# get most confusing classes\n",
        "fig, ax = plt.subplots(figsize=(15,10))         # Sample figsize in inches\n",
        "sns.heatmap(confusion_matrix1, annot=True, linewidths=.5, ax=ax, fmt='g')"
      ],
      "metadata": {
        "id": "nPuslHnwtOm0",
        "colab": {
          "base_uri": "https://localhost:8080/",
          "height": 609
        },
        "outputId": "68cedbc2-0da9-4147-ba4e-c464d7bf9344"
      },
      "execution_count": null,
      "outputs": [
        {
          "output_type": "execute_result",
          "data": {
            "text/plain": [
              "<matplotlib.axes._subplots.AxesSubplot at 0x7f53c5964b10>"
            ]
          },
          "metadata": {},
          "execution_count": 23
        },
        {
          "output_type": "display_data",
          "data": {
            "text/plain": [
              "<Figure size 1080x720 with 2 Axes>"
            ],
            "image/png": "[encoded data removed]"
          },
          "metadata": {
            "needs_background": "light"
          }
        }
      ]
    },
    {
      "cell_type": "code",
      "source": [
        "# Print f1, precision, and recall scores\n",
        "print(\"Percision: \",precision_score(y_test_classes, y_pred_classes , average=\"macro\"))\n",
        "print(\"Recall: \",recall_score(y_test_classes, y_pred_classes , average=\"macro\"))\n",
        "print(\"F-score: \",f1_score(y_test_classes, y_pred_classes , average=\"macro\"))"
      ],
      "metadata": {
        "id": "Sa09wnni-nuD",
        "colab": {
          "base_uri": "https://localhost:8080/"
        },
        "outputId": "b52628a3-727f-4726-bdaf-d7372fd9d5cc"
      },
      "execution_count": null,
      "outputs": [
        {
          "output_type": "stream",
          "name": "stdout",
          "text": [
            "Percision:  0.49854739189524666\n",
            "Recall:  0.5166999999999999\n",
            "F-score:  0.49371767138430045\n"
          ]
        }
      ]
    },
    {
      "cell_type": "code",
      "source": [
        "# group by snr\n",
        "snr_test = [int(snr) for snr in snr_test]\n",
        "sorted_snrs = np.sort(np.unique(snr_test))\n",
        "x = []\n",
        "y = []\n",
        "for snr in sorted_snrs:\n",
        "  idx = np.where(snr_test == snr)\n",
        "  x.append(snr)\n",
        "  y.append(accuracy_score(np.argmax(y_test_lb[idx], axis = 1), np.argmax(y_predicted[idx], axis = 1)))\n"
      ],
      "metadata": {
        "id": "zwAmEVVutJbG"
      },
      "execution_count": null,
      "outputs": []
    },
    {
      "cell_type": "code",
      "source": [
        "# print results of snr\n",
        "pd.DataFrame(data = np.array(y).reshape(1, -1) * 100,  columns = sorted_snrs, index = ['accuracy']).round(2)"
      ],
      "metadata": {
        "id": "Kj9jWjpmu-FF",
        "colab": {
          "base_uri": "https://localhost:8080/",
          "height": 81
        },
        "outputId": "fd527c6c-d26f-49a6-f5a6-b1ce2482e1d6"
      },
      "execution_count": null,
      "outputs": [
        {
          "output_type": "execute_result",
          "data": {
            "text/plain": [
              "            -20    -18    -16    -14    -12    -10    -8     -6     -4   \\\n",
              "accuracy  10.73  10.88  11.77  13.48  19.61  27.52  34.22  41.77  54.12   \n",
              "\n",
              "            -2      0      2     4      6      8      10     12     14     16  \\\n",
              "accuracy  64.82  71.18  73.46  74.4  75.11  75.11  75.23  74.91  75.19  75.14   \n",
              "\n",
              "             18  \n",
              "accuracy  74.75  "
            ],
            "text/html": [
              "\n",
              "  <div id=\"df-6a4a868b-9896-4408-b3e1-c88beb5b9e62\">\n",
              "    <div class=\"colab-df-container\">\n",
              "      <div>\n",
              "<style scoped>\n",
              "    .dataframe tbody tr th:only-of-type {\n",
              "        vertical-align: middle;\n",
              "    }\n",
              "\n",
              "    .dataframe tbody tr th {\n",
              "        vertical-align: top;\n",
              "    }\n",
              "\n",
              "    .dataframe thead th {\n",
              "        text-align: right;\n",
              "    }\n",
              "</style>\n",
              "<table border=\"1\" class=\"dataframe\">\n",
              "  <thead>\n",
              "    <tr style=\"text-align: right;\">\n",
              "      <th></th>\n",
              "      <th>-20</th>\n",
              "      <th>-18</th>\n",
              "      <th>-16</th>\n",
              "      <th>-14</th>\n",
              "      <th>-12</th>\n",
              "      <th>-10</th>\n",
              "      <th>-8</th>\n",
              "      <th>-6</th>\n",
              "      <th>-4</th>\n",
              "      <th>-2</th>\n",
              "      <th>0</th>\n",
              "      <th>2</th>\n",
              "      <th>4</th>\n",
              "      <th>6</th>\n",
              "      <th>8</th>\n",
              "      <th>10</th>\n",
              "      <th>12</th>\n",
              "      <th>14</th>\n",
              "      <th>16</th>\n",
              "      <th>18</th>\n",
              "    </tr>\n",
              "  </thead>\n",
              "  <tbody>\n",
              "    <tr>\n",
              "      <th>accuracy</th>\n",
              "      <td>10.73</td>\n",
              "      <td>10.88</td>\n",
              "      <td>11.77</td>\n",
              "      <td>13.48</td>\n",
              "      <td>19.61</td>\n",
              "      <td>27.52</td>\n",
              "      <td>34.22</td>\n",
              "      <td>41.77</td>\n",
              "      <td>54.12</td>\n",
              "      <td>64.82</td>\n",
              "      <td>71.18</td>\n",
              "      <td>73.46</td>\n",
              "      <td>74.4</td>\n",
              "      <td>75.11</td>\n",
              "      <td>75.11</td>\n",
              "      <td>75.23</td>\n",
              "      <td>74.91</td>\n",
              "      <td>75.19</td>\n",
              "      <td>75.14</td>\n",
              "      <td>74.75</td>\n",
              "    </tr>\n",
              "  </tbody>\n",
              "</table>\n",
              "</div>\n",
              "      <button class=\"colab-df-convert\" onclick=\"convertToInteractive('df-6a4a868b-9896-4408-b3e1-c88beb5b9e62')\"\n",
              "              title=\"Convert this dataframe to an interactive table.\"\n",
              "              style=\"display:none;\">\n",
              "        \n",
              "  <svg xmlns=\"http://www.w3.org/2000/svg\" height=\"24px\"viewBox=\"0 0 24 24\"\n",
              "       width=\"24px\">\n",
              "    <path d=\"M0 0h24v24H0V0z\" fill=\"none\"/>\n",
              "    <path d=\"M18.56 5.44l.94 2.06.94-2.06 2.06-.94-2.06-.94-.94-2.06-.94 2.06-2.06.94zm-11 1L8.5 8.5l.94-2.06 2.06-.94-2.06-.94L8.5 2.5l-.94 2.06-2.06.94zm10 10l.94 2.06.94-2.06 2.06-.94-2.06-.94-.94-2.06-.94 2.06-2.06.94z\"/><path d=\"M17.41 7.96l-1.37-1.37c-.4-.4-.92-.59-1.43-.59-.52 0-1.04.2-1.43.59L10.3 9.45l-7.72 7.72c-.78.78-.78 2.05 0 2.83L4 21.41c.39.39.9.59 1.41.59.51 0 1.02-.2 1.41-.59l7.78-7.78 2.81-2.81c.8-.78.8-2.07 0-2.86zM5.41 20L4 18.59l7.72-7.72 1.47 1.35L5.41 20z\"/>\n",
              "  </svg>\n",
              "      </button>\n",
              "      \n",
              "  <style>\n",
              "    .colab-df-container {\n",
              "      display:flex;\n",
              "      flex-wrap:wrap;\n",
              "      gap: 12px;\n",
              "    }\n",
              "\n",
              "    .colab-df-convert {\n",
              "      background-color: #E8F0FE;\n",
              "      border: none;\n",
              "      border-radius: 50%;\n",
              "      cursor: pointer;\n",
              "      display: none;\n",
              "      fill: #1967D2;\n",
              "      height: 32px;\n",
              "      padding: 0 0 0 0;\n",
              "      width: 32px;\n",
              "    }\n",
              "\n",
              "    .colab-df-convert:hover {\n",
              "      background-color: #E2EBFA;\n",
              "      box-shadow: 0px 1px 2px rgba(60, 64, 67, 0.3), 0px 1px 3px 1px rgba(60, 64, 67, 0.15);\n",
              "      fill: #174EA6;\n",
              "    }\n",
              "\n",
              "    [theme=dark] .colab-df-convert {\n",
              "      background-color: #3B4455;\n",
              "      fill: #D2E3FC;\n",
              "    }\n",
              "\n",
              "    [theme=dark] .colab-df-convert:hover {\n",
              "      background-color: #434B5C;\n",
              "      box-shadow: 0px 1px 3px 1px rgba(0, 0, 0, 0.15);\n",
              "      filter: drop-shadow(0px 1px 2px rgba(0, 0, 0, 0.3));\n",
              "      fill: #FFFFFF;\n",
              "    }\n",
              "  </style>\n",
              "\n",
              "      <script>\n",
              "        const buttonEl =\n",
              "          document.querySelector('#df-6a4a868b-9896-4408-b3e1-c88beb5b9e62 button.colab-df-convert');\n",
              "        buttonEl.style.display =\n",
              "          google.colab.kernel.accessAllowed ? 'block' : 'none';\n",
              "\n",
              "        async function convertToInteractive(key) {\n",
              "          const element = document.querySelector('#df-6a4a868b-9896-4408-b3e1-c88beb5b9e62');\n",
              "          const dataTable =\n",
              "            await google.colab.kernel.invokeFunction('convertToInteractive',\n",
              "                                                     [key], {});\n",
              "          if (!dataTable) return;\n",
              "\n",
              "          const docLinkHtml = 'Like what you see? Visit the ' +\n",
              "            '<a target=\"_blank\" href=https://colab.research.google.com/notebooks/data_table.ipynb>data table notebook</a>'\n",
              "            + ' to learn more about interactive tables.';\n",
              "          element.innerHTML = '';\n",
              "          dataTable['output_type'] = 'display_data';\n",
              "          await google.colab.output.renderOutput(dataTable, element);\n",
              "          const docLink = document.createElement('div');\n",
              "          docLink.innerHTML = docLinkHtml;\n",
              "          element.appendChild(docLink);\n",
              "        }\n",
              "      </script>\n",
              "    </div>\n",
              "  </div>\n",
              "  "
            ]
          },
          "metadata": {},
          "execution_count": 27
        }
      ]
    },
    {
      "cell_type": "code",
      "source": [
        "# plot accuracy vs snr\n",
        "plt.xlabel('SNR')\n",
        "plt.ylabel('Accuracy')\n",
        "plt.title('Classification Accuracy over different SNRs')\n",
        "plt.plot(x, np.array(y) * 100, 'bo-')\n",
        "plt.grid(True)"
      ],
      "metadata": {
        "id": "pvujwhM9vDmd",
        "colab": {
          "base_uri": "https://localhost:8080/",
          "height": 295
        },
        "outputId": "9d7f8a7c-e48d-44a4-bc20-bfe657d58b0f"
      },
      "execution_count": null,
      "outputs": [
        {
          "output_type": "display_data",
          "data": {
            "text/plain": [
              "<Figure size 432x288 with 1 Axes>"
            ],
            "image/png": "[encoded data removed]"
          },
          "metadata": {
            "needs_background": "light"
          }
        }
      ]
    }
  ],
  "metadata": {
    "colab": {
      "collapsed_sections": [],
      "name": "training Integral Rnn.ipynb",
      "provenance": []
    },
    "kernelspec": {
      "display_name": "Python 3",
      "name": "python3"
    },
    "language_info": {
      "name": "python"
    },
    "gpuClass": "standard"
  },
  "nbformat": 4,
  "nbformat_minor": 0
}