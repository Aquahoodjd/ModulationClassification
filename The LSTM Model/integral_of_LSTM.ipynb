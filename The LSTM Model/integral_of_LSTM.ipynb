{
  "cells": [
    {
      "cell_type": "code",
      "execution_count": null,
      "metadata": {
        "id": "ywwEfCwinI1Z"
      },
      "outputs": [],
      "source": [
        "import numpy as np\n",
        "import pandas as pd\n",
        "import csv\n",
        "import pickle\n",
        "import os\n",
        "import scipy\n",
        "import gc\n",
        "import matplotlib.pyplot as plt\n",
        "from sklearn.preprocessing import LabelEncoder\n",
        "from sklearn.model_selection import train_test_split\n",
        "from sklearn.metrics import confusion_matrix,accuracy_score\n",
        "from sklearn.metrics import classification_report\n",
        "from sklearn.metrics import f1_score, precision_score, recall_score, confusion_matrix\n",
        "import seaborn as sns\n",
        "from keras.utils import np_utils\n",
        "from keras.layers import LSTM,BatchNormalization\n",
        "import tensorflow\n",
        "from tensorflow.keras.utils import plot_model\n",
        "from tensorflow.keras.models import Sequential\n",
        "from tensorflow.keras.layers import Conv2D\n",
        "from tensorflow.keras.layers import MaxPool2D\n",
        "from tensorflow.keras.layers import Flatten\n",
        "from tensorflow.keras.layers import Dropout\n",
        "from tensorflow.keras.layers import Dense"
      ]
    },
    {
      "cell_type": "code",
      "execution_count": null,
      "metadata": {
        "colab": {
          "base_uri": "https://localhost:8080/"
        },
        "id": "Njns266FnlwZ",
        "outputId": "d5c438b0-bead-4c27-f6c7-e6aff2c067ec"
      },
      "outputs": [
        {
          "output_type": "stream",
          "name": "stdout",
          "text": [
            "Mounted at /content/drive\n"
          ]
        }
      ],
      "source": [
        "from google.colab import drive\n",
        "drive.mount('/content/drive')"
      ]
    },
    {
      "cell_type": "code",
      "source": [
        "# enable gpu\n",
        "from keras import backend as K\n",
        "K._get_available_gpus()"
      ],
      "metadata": {
        "id": "Hhdr40tprK5c",
        "colab": {
          "base_uri": "https://localhost:8080/"
        },
        "outputId": "9285672e-eac6-495d-bc74-4e8cf48fdfb9"
      },
      "execution_count": null,
      "outputs": [
        {
          "output_type": "execute_result",
          "data": {
            "text/plain": [
              "['/device:GPU:0']"
            ]
          },
          "metadata": {},
          "execution_count": 4
        }
      ]
    },
    {
      "cell_type": "code",
      "execution_count": null,
      "metadata": {
        "id": "2W-x_ri0osz4"
      },
      "outputs": [],
      "source": [
        "DataPath=  '/content/drive/MyDrive/Colab Notebooks/pattern/lab4/data/RML2016.10b.dat' #'/content/drive/MyDrive/ModulationClassification/RML2016.10b.dat'"
      ]
    },
    {
      "cell_type": "code",
      "execution_count": null,
      "metadata": {
        "id": "6iw35H4J0re7"
      },
      "outputs": [],
      "source": [
        "pickle_in = open(DataPath,\"rb\")\n",
        "data = pickle.load(pickle_in, encoding=\"bytes\")"
      ]
    },
    {
      "cell_type": "code",
      "source": [
        "def load_data(data):\n",
        "  s = np.empty((0,128,2))\n",
        "  l=np.array([])\n",
        "  for key in data.keys():\n",
        "    # load samples\n",
        "    x,y=key\n",
        "    x = x.decode('ascii')\n",
        "    samples = np.array(data.get(key)).transpose(0, 2, 1)\n",
        "    # create labels\n",
        "    labels = np.repeat(x+'_'+str(y),samples.shape[0])\n",
        "    l=np.concatenate([l,labels])\n",
        "    s=np.vstack((s,samples))\n",
        "    print('key',key)\n",
        "    print(\"samples:\",samples.shape)\n",
        "    print('labels',labels.shape)\n",
        "  return l,s,data.keys()\n",
        "  "
      ],
      "metadata": {
        "id": "FF03fJQi1eJA"
      },
      "execution_count": null,
      "outputs": []
    },
    {
      "cell_type": "code",
      "source": [
        "def first_drev(data):\n",
        "  drev = np.empty((0,128,2))\n",
        "  for i in range(200):\n",
        "    print(i)\n",
        "    tmp = np.gradient(data[i*6000:i*6000+6000][:][:],axis=1)\n",
        "    drev=np.vstack((drev,tmp))\n",
        "    del tmp\n",
        "  return drev\n"
      ],
      "metadata": {
        "id": "TcdVmnsloSde"
      },
      "execution_count": null,
      "outputs": []
    },
    {
      "cell_type": "code",
      "source": [
        "def integral(data):\n",
        "  data=np.pad(data, [(0, 0),(0,0),(0,1)], 'constant')\n",
        "  integral = []\n",
        "  for i in range(200):\n",
        "    print(i)\n",
        "    tmp = scipy.integrate.cumtrapz(data[i*6000:i*6000+6000][:][:],dx=1)\n",
        "    integral.extend(tmp)\n",
        "    del tmp\n",
        "    gc.collect()\n",
        "  return integral"
      ],
      "metadata": {
        "id": "iBsc70l3oV0B"
      },
      "execution_count": null,
      "outputs": []
    },
    {
      "cell_type": "code",
      "source": [
        "def split_tuple(labels):\n",
        "  label, snr = map(list, zip(*(x.split('_') for x in labels)))\n",
        "  label,snr=np.array(label),np.array(snr)\n",
        "  return label,snr"
      ],
      "metadata": {
        "id": "4LbHKwcvWKS0"
      },
      "execution_count": null,
      "outputs": []
    },
    {
      "cell_type": "code",
      "execution_count": null,
      "metadata": {
        "id": "5mJfcORXPXqM"
      },
      "outputs": [],
      "source": [
        "def create_model():\n",
        "  number_of_channels = 2 \n",
        "  model = Sequential()\n",
        "  \n",
        "  model.add(LSTM(64, input_shape=(128,4)))\n",
        "\n",
        "  model.add(BatchNormalization())\n",
        "\n",
        "  model.add(Dense(10, activation ='softmax'))\n",
        "\n",
        "  \n",
        "  return model"
      ]
    },
    {
      "cell_type": "code",
      "source": [
        "# get samples and labels\n",
        "labels, samples,classes = load_data(data)"
      ],
      "metadata": {
        "id": "uH-b0jsb_3Hs"
      },
      "execution_count": null,
      "outputs": []
    },
    {
      "cell_type": "code",
      "source": [
        "# test drevative\n",
        "d = np.array(first_drev(samples))\n",
        "print(\"drevative:\",d.shape)\n",
        "\n"
      ],
      "metadata": {
        "id": "bB7Y_bb5pXFa"
      },
      "execution_count": null,
      "outputs": []
    },
    {
      "cell_type": "code",
      "source": [
        "# test integration\n",
        "i = np.array(integral(samples))\n",
        "print(\"integral:\",i.shape)"
      ],
      "metadata": {
        "id": "SGMhru2O5bUD"
      },
      "execution_count": null,
      "outputs": []
    },
    {
      "cell_type": "code",
      "source": [
        "path = '/content/drive/MyDrive/Colab Notebooks/pattern/lab4/integral.npy'\n",
        "samples = np.load(path)\n",
        "path = '/content/drive/MyDrive/Colab Notebooks/pattern/lab4/labels.npy'\n",
        "labels= np.load(path)"
      ],
      "metadata": {
        "id": "0lvrmiAbn5mN"
      },
      "execution_count": null,
      "outputs": []
    },
    {
      "cell_type": "code",
      "source": [
        "# to encode the labels\n",
        "lb = LabelEncoder()\n",
        "# split data into train and test\n",
        "x_train, x_test, y_train, y_test = train_test_split(samples, labels,test_size=0.3, random_state=1 ,stratify=labels)\n",
        "del samples\n",
        "del labels\n",
        "gc.collect()\n",
        "# take 5% of training set for validation \n",
        "x_train, x_val, y_train, y_val = train_test_split(x_train, y_train,test_size=0.05, random_state=1,stratify=y_train)\n",
        "\n",
        "y_train,snr_train = split_tuple(y_train)\n",
        "y_test,snr_test = split_tuple(y_test)\n",
        "y_val,snr_val=split_tuple(y_val)\n",
        "\n",
        "# encode labels\n",
        "y_train_lb = np_utils.to_categorical(lb.fit_transform(y_train))\n",
        "y_val_lb = np_utils.to_categorical(lb.fit_transform(y_val))\n",
        "del y_train\n",
        "del y_val\n",
        "gc.collect()"
      ],
      "metadata": {
        "id": "7QVz9uho9IBm",
        "colab": {
          "base_uri": "https://localhost:8080/"
        },
        "outputId": "5cabbaa6-acab-449d-8d5e-5ef77f274d0f"
      },
      "execution_count": null,
      "outputs": [
        {
          "output_type": "execute_result",
          "data": {
            "text/plain": [
              "0"
            ]
          },
          "metadata": {},
          "execution_count": 8
        }
      ]
    },
    {
      "cell_type": "code",
      "source": [
        "# create model\n",
        "model = create_model()\n",
        "model.compile(loss = 'categorical_crossentropy',optimizer = 'Adam', metrics = ['accuracy'])\n",
        "\n",
        "# Save an image of the model's architecture to a file\n",
        "plot_model(model, to_file='Feed Forward NN.png', show_shapes=True, show_layer_names=True)"
      ],
      "metadata": {
        "id": "Uq82saRr9STD",
        "colab": {
          "base_uri": "https://localhost:8080/",
          "height": 422
        },
        "outputId": "ed17e14b-25f9-4e88-dc97-e58768c67547"
      },
      "execution_count": null,
      "outputs": [
        {
          "output_type": "execute_result",
          "data": {
            "text/plain": [
              "<IPython.core.display.Image object>"
            ],
            "image/png": "[encoded data removed]"
          },
          "metadata": {},
          "execution_count": 4
        }
      ]
    },
    {
      "cell_type": "code",
      "source": [
        "#1e-1,1e-2,1e-3,\n",
        "rates = [1e-4]\n",
        "epochs = 100\n",
        "path = '/content/drive/MyDrive/Colab Notebooks/pattern/lab4/data/combined/integral/lstm/'\n",
        "checkpoint_filepath = path+'checkpoint_cnn'\n",
        "model_checkpoint_callback = tensorflow.keras.callbacks.ModelCheckpoint(\n",
        "    filepath=checkpoint_filepath,\n",
        "    save_weights_only=True,\n",
        "    monitor='val_accuracy',\n",
        "    mode='max',\n",
        "    save_best_only=True)\n",
        "for lr in rates:\n",
        "  print(\"Learning rate:\",lr)\n",
        "  gc.collect()\n",
        "  model = create_model()\n",
        "  callback = tensorflow.keras.callbacks.EarlyStopping(monitor='val_accuracy', patience=5)\n",
        "  opt = tensorflow.keras.optimizers.Adam(learning_rate=lr)\n",
        "  model.compile(loss = 'categorical_crossentropy',optimizer = opt, metrics = ['accuracy'])\n",
        "\n",
        "  # train model\n",
        "  cnn_results = model.fit(x_train, y_train_lb,\n",
        "                  epochs = epochs,\n",
        "                  verbose = 1,\n",
        "                  validation_data = (x_val, y_val_lb),callbacks=[callback,model_checkpoint_callback])\n",
        "  # Plot model accuracy over ephocs\n",
        "  plt.plot(cnn_results.history['accuracy'])\n",
        "  plt.plot(cnn_results.history['val_accuracy'])\n",
        "  plt.title('model accuracy')\n",
        "  plt.ylabel('accuracy')\n",
        "  plt.xlabel('epoch')\n",
        "  plt.legend(['train', 'val'], loc='upper left')\n",
        "  plt.savefig(path+f'lr_{str(lr)}.png')\n",
        "  plt.show()\n",
        "  print(\"**************************************************\\n\\n\")\n"
      ],
      "metadata": {
        "id": "C-GYKwgt-MYv"
      },
      "execution_count": null,
      "outputs": []
    },
    {
      "cell_type": "code",
      "source": [
        "gc.collect()\n",
        "model = create_model()\n",
        "opt = tensorflow.keras.optimizers.Adam(learning_rate=1e-4)\n",
        "model.compile(loss = 'categorical_crossentropy',optimizer = 'Adam', metrics = ['accuracy'])\n",
        "\n",
        "# train model\n",
        "cnn_results = model.fit(x_train, y_train_lb,\n",
        "                  epochs = 30,\n",
        "                  verbose = 1,\n",
        "                  validation_data = (x_val, y_val_lb))\n",
        "# Plot model accuracy over ephocs\n",
        "plt.plot(cnn_results.history['accuracy'])\n",
        "plt.plot(cnn_results.history['val_accuracy'])\n",
        "plt.title('model accuracy')\n",
        "plt.ylabel('accuracy')\n",
        "plt.xlabel('epoch')\n",
        "plt.legend(['train', 'val'], loc='upper left')\n",
        "plt.show()\n",
        "gc.collect()"
      ],
      "metadata": {
        "colab": {
          "base_uri": "https://localhost:8080/",
          "height": 1000
        },
        "id": "NdjwOr3ktXoA",
        "outputId": "d459b91e-045d-4e9a-8ecf-dbe7fffe74de"
      },
      "execution_count": null,
      "outputs": [
        {
          "output_type": "stream",
          "name": "stdout",
          "text": [
            "Epoch 1/30\n",
            "24938/24938 [==============================] - 202s 8ms/step - loss: 1.9297 - accuracy: 0.2413 - val_loss: 1.5964 - val_accuracy: 0.3724\n",
            "Epoch 2/30\n",
            "24938/24938 [==============================] - 193s 8ms/step - loss: 1.4289 - accuracy: 0.4283 - val_loss: 1.3441 - val_accuracy: 0.4535\n",
            "Epoch 3/30\n",
            "24938/24938 [==============================] - 188s 8ms/step - loss: 1.3134 - accuracy: 0.4673 - val_loss: 1.2678 - val_accuracy: 0.4771\n",
            "Epoch 4/30\n",
            "24938/24938 [==============================] - 188s 8ms/step - loss: 1.1756 - accuracy: 0.5167 - val_loss: 1.0924 - val_accuracy: 0.5470\n",
            "Epoch 5/30\n",
            "24938/24938 [==============================] - 187s 7ms/step - loss: 1.0699 - accuracy: 0.5527 - val_loss: 1.0391 - val_accuracy: 0.5620\n",
            "Epoch 6/30\n",
            "24938/24938 [==============================] - 185s 7ms/step - loss: 1.0366 - accuracy: 0.5668 - val_loss: 1.0283 - val_accuracy: 0.5775\n",
            "Epoch 7/30\n",
            "24938/24938 [==============================] - 185s 7ms/step - loss: 1.0078 - accuracy: 0.5883 - val_loss: 0.9960 - val_accuracy: 0.5956\n",
            "Epoch 8/30\n",
            "24938/24938 [==============================] - 185s 7ms/step - loss: 0.9806 - accuracy: 0.6051 - val_loss: 0.9695 - val_accuracy: 0.6059\n",
            "Epoch 9/30\n",
            "24938/24938 [==============================] - 185s 7ms/step - loss: 0.9650 - accuracy: 0.6134 - val_loss: 0.9522 - val_accuracy: 0.6165\n",
            "Epoch 10/30\n",
            "24938/24938 [==============================] - 192s 8ms/step - loss: 0.9547 - accuracy: 0.6178 - val_loss: 0.9400 - val_accuracy: 0.6227\n",
            "Epoch 11/30\n",
            "24938/24938 [==============================] - 187s 8ms/step - loss: 0.9473 - accuracy: 0.6209 - val_loss: 0.9395 - val_accuracy: 0.6236\n",
            "Epoch 12/30\n",
            "24938/24938 [==============================] - 187s 8ms/step - loss: 0.9407 - accuracy: 0.6233 - val_loss: 0.9330 - val_accuracy: 0.6269\n",
            "Epoch 13/30\n",
            "24938/24938 [==============================] - 188s 8ms/step - loss: 0.9358 - accuracy: 0.6254 - val_loss: 0.9311 - val_accuracy: 0.6287\n",
            "Epoch 14/30\n",
            "24938/24938 [==============================] - 188s 8ms/step - loss: 0.9319 - accuracy: 0.6270 - val_loss: 0.9234 - val_accuracy: 0.6291\n",
            "Epoch 15/30\n",
            "24938/24938 [==============================] - 187s 7ms/step - loss: 0.9280 - accuracy: 0.6281 - val_loss: 0.9180 - val_accuracy: 0.6340\n",
            "Epoch 16/30\n",
            "24938/24938 [==============================] - 187s 8ms/step - loss: 0.9249 - accuracy: 0.6294 - val_loss: 0.9132 - val_accuracy: 0.6336\n",
            "Epoch 17/30\n",
            "24938/24938 [==============================] - 186s 7ms/step - loss: 0.9241 - accuracy: 0.6305 - val_loss: 0.9137 - val_accuracy: 0.6347\n",
            "Epoch 18/30\n",
            "24938/24938 [==============================] - 187s 7ms/step - loss: 0.9200 - accuracy: 0.6311 - val_loss: 0.9102 - val_accuracy: 0.6324\n",
            "Epoch 19/30\n",
            "24938/24938 [==============================] - 187s 8ms/step - loss: 0.9179 - accuracy: 0.6321 - val_loss: 0.9095 - val_accuracy: 0.6339\n",
            "Epoch 20/30\n",
            "24938/24938 [==============================] - 190s 8ms/step - loss: 0.9195 - accuracy: 0.6320 - val_loss: 0.9156 - val_accuracy: 0.6287\n",
            "Epoch 21/30\n",
            "24938/24938 [==============================] - 186s 7ms/step - loss: 0.9188 - accuracy: 0.6323 - val_loss: 0.9064 - val_accuracy: 0.6355\n",
            "Epoch 22/30\n",
            "24938/24938 [==============================] - 186s 7ms/step - loss: 0.9142 - accuracy: 0.6335 - val_loss: 0.9064 - val_accuracy: 0.6360\n",
            "Epoch 23/30\n",
            "24938/24938 [==============================] - 189s 8ms/step - loss: 0.9127 - accuracy: 0.6342 - val_loss: 0.9060 - val_accuracy: 0.6355\n",
            "Epoch 24/30\n",
            "24938/24938 [==============================] - 188s 8ms/step - loss: 0.9109 - accuracy: 0.6346 - val_loss: 0.9016 - val_accuracy: 0.6390\n",
            "Epoch 25/30\n",
            "24938/24938 [==============================] - 186s 7ms/step - loss: 0.9093 - accuracy: 0.6353 - val_loss: 0.9176 - val_accuracy: 0.6366\n",
            "Epoch 26/30\n",
            "24938/24938 [==============================] - 187s 7ms/step - loss: 0.9087 - accuracy: 0.6356 - val_loss: 0.9056 - val_accuracy: 0.6382\n",
            "Epoch 27/30\n",
            "24938/24938 [==============================] - 185s 7ms/step - loss: 0.9079 - accuracy: 0.6361 - val_loss: 0.8977 - val_accuracy: 0.6400\n",
            "Epoch 28/30\n",
            "24938/24938 [==============================] - 186s 7ms/step - loss: 0.9059 - accuracy: 0.6362 - val_loss: 0.9146 - val_accuracy: 0.6270\n",
            "Epoch 29/30\n",
            "24938/24938 [==============================] - 190s 8ms/step - loss: 0.9055 - accuracy: 0.6368 - val_loss: 0.9104 - val_accuracy: 0.6374\n",
            "Epoch 30/30\n",
            "24938/24938 [==============================] - 186s 7ms/step - loss: 0.9041 - accuracy: 0.6374 - val_loss: 0.9087 - val_accuracy: 0.6360\n"
          ]
        },
        {
          "output_type": "display_data",
          "data": {
            "text/plain": [
              "<Figure size 432x288 with 1 Axes>"
            ],
            "image/png": "[encoded data removed]"
          },
          "metadata": {
            "needs_background": "light"
          }
        },
        {
          "output_type": "execute_result",
          "data": {
            "text/plain": [
              "7825"
            ]
          },
          "metadata": {},
          "execution_count": 9
        }
      ]
    },
    {
      "cell_type": "code",
      "source": [
        "# Plot model loss over ephocs\n",
        "plt.plot(cnn_results.history['loss'])\n",
        "plt.plot(cnn_results.history['val_loss'])\n",
        "plt.title('model loss')\n",
        "plt.ylabel('loss')\n",
        "plt.xlabel('epoch')\n",
        "plt.legend(['train', 'val'], loc='upper left')\n",
        "plt.show()"
      ],
      "metadata": {
        "colab": {
          "base_uri": "https://localhost:8080/",
          "height": 295
        },
        "id": "6_z0q1hUtazc",
        "outputId": "086c1d69-6dc8-461e-b699-872932fba9a5"
      },
      "execution_count": null,
      "outputs": [
        {
          "output_type": "display_data",
          "data": {
            "text/plain": [
              "<Figure size 432x288 with 1 Axes>"
            ],
            "image/png": "[encoded data removed]"
          },
          "metadata": {
            "needs_background": "light"
          }
        }
      ]
    },
    {
      "cell_type": "code",
      "source": [
        "model.save('/content/drive/MyDrive/Colab Notebooks/pattern/lab4/data/combined/integral/lstm/my_model.h5')"
      ],
      "metadata": {
        "id": "fF5uGSdt2k2y"
      },
      "execution_count": null,
      "outputs": []
    },
    {
      "cell_type": "code",
      "source": [
        "# train accuracy\n",
        "score = model.evaluate(x_train, y_train_lb, verbose=0)\n",
        "print(\"Training Accuracy: \", score[1])"
      ],
      "metadata": {
        "id": "CKuhvLRQ-S4l"
      },
      "execution_count": null,
      "outputs": []
    },
    {
      "cell_type": "code",
      "source": [
        "del x_train\n",
        "del y_train_lb\n",
        "del x_val\n",
        "del y_val_lb\n",
        "gc.collect()"
      ],
      "metadata": {
        "id": "HLXpkK7jVHJN",
        "colab": {
          "base_uri": "https://localhost:8080/"
        },
        "outputId": "73155e7c-a4a4-4a70-b1e2-0a1955a239b9"
      },
      "execution_count": null,
      "outputs": [
        {
          "output_type": "execute_result",
          "data": {
            "text/plain": [
              "3228"
            ]
          },
          "metadata": {},
          "execution_count": 12
        }
      ]
    },
    {
      "cell_type": "code",
      "source": [
        "# evaluate test set\n",
        "# encode labels\n",
        "y_test_lb = np_utils.to_categorical(lb.fit_transform(y_test))\n",
        "\n",
        "score = model.evaluate(x_test, y_test_lb, verbose=0)\n",
        "print(\"Testing Accuracy: \", score[1])"
      ],
      "metadata": {
        "id": "c0jtqKUm-c7H",
        "colab": {
          "base_uri": "https://localhost:8080/"
        },
        "outputId": "40daf20e-d9ca-4013-9fb5-e96142cd09aa"
      },
      "execution_count": null,
      "outputs": [
        {
          "output_type": "stream",
          "name": "stdout",
          "text": [
            "Testing Accuracy:  0.6350333094596863\n"
          ]
        }
      ]
    },
    {
      "cell_type": "code",
      "source": [
        "# to get confusion matrix\n",
        "y_test_classes = y_test_lb.argmax(1)\n",
        "y_predicted = model.predict(x_test)\n",
        "y_pred_classes = np.argmax(y_predicted,axis=1)\n"
      ],
      "metadata": {
        "id": "NRHKqSIA-gQJ"
      },
      "execution_count": null,
      "outputs": []
    },
    {
      "cell_type": "code",
      "source": [
        "classes = np.load('/content/drive/MyDrive/Colab Notebooks/pattern/lab4/classes.npy')"
      ],
      "metadata": {
        "id": "mEepqSYj3-S8"
      },
      "execution_count": null,
      "outputs": []
    },
    {
      "cell_type": "code",
      "source": [
        "# get confusion matrix\n",
        "confusion_matrix1 = confusion_matrix(y_true= y_test_classes, y_pred=y_pred_classes)\n",
        "classes = np.array([x[0] for x in classes])\n",
        "classes=np.unique(classes)\n",
        "print(classes)\n",
        "#Add labels to confusion matrix\n",
        "confusion_matrix1 = pd.DataFrame(confusion_matrix1, columns=list(classes), index=list(classes))\n",
        "\n",
        "print(\"The rows represents the true values or observations\")\n",
        "print(\"The columns respresent the model's predictions\")\n",
        "\n",
        "#Print confusion matrix results\n",
        "confusion_matrix1"
      ],
      "metadata": {
        "colab": {
          "base_uri": "https://localhost:8080/",
          "height": 432
        },
        "id": "Gpfz-Ck1KZHY",
        "outputId": "a921ac1b-e66e-4c7a-83e4-a3054d5d7c27"
      },
      "execution_count": null,
      "outputs": [
        {
          "output_type": "stream",
          "name": "stdout",
          "text": [
            "[b'8PSK' b'AM-DSB' b'BPSK' b'CPFSK' b'GFSK' b'PAM4' b'QAM16' b'QAM64'\n",
            " b'QPSK' b'WBFM']\n",
            "The rows represents the true values or observations\n",
            "The columns respresent the model's predictions\n"
          ]
        },
        {
          "output_type": "execute_result",
          "data": {
            "text/plain": [
              "           b'8PSK'  b'AM-DSB'  b'BPSK'  b'CPFSK'  b'GFSK'  b'PAM4'  b'QAM16'  \\\n",
              "b'8PSK'      19566        725      248      3523     7810      370       694   \n",
              "b'AM-DSB'        7      25090       38      1085     5067       93        22   \n",
              "b'BPSK'         98        721    21727      2497     7460     1636       115   \n",
              "b'CPFSK'        92        712      123     24986     8100      234       107   \n",
              "b'GFSK'         18        917       62      1553    31578      153        31   \n",
              "b'PAM4'         41        564      698      1860     5392    25984       101   \n",
              "b'QAM16'       675        370      206      2771     4782      406     21633   \n",
              "b'QAM64'       528        252      169      2335     3006      360      2772   \n",
              "b'QPSK'       1011        732      243      3569     7641      391       636   \n",
              "b'WBFM'         13      16119       42      1072     6122      100        26   \n",
              "\n",
              "           b'QAM64'  b'QPSK'  b'WBFM'  \n",
              "b'8PSK'         551     1259     1254  \n",
              "b'AM-DSB'         5      122     4471  \n",
              "b'BPSK'          86      403     1257  \n",
              "b'CPFSK'         95      316     1235  \n",
              "b'GFSK'          15      147     1526  \n",
              "b'PAM4'         102      296      962  \n",
              "b'QAM16'       3599      767      791  \n",
              "b'QAM64'      25451      611      516  \n",
              "b'QPSK'         362    20229     1186  \n",
              "b'WBFM'          12      126    12368  "
            ],
            "text/html": [
              "\n",
              "  <div id=\"df-db1f6b83-29c7-4d8b-addf-3e33d060b7d5\">\n",
              "    <div class=\"colab-df-container\">\n",
              "      <div>\n",
              "<style scoped>\n",
              "    .dataframe tbody tr th:only-of-type {\n",
              "        vertical-align: middle;\n",
              "    }\n",
              "\n",
              "    .dataframe tbody tr th {\n",
              "        vertical-align: top;\n",
              "    }\n",
              "\n",
              "    .dataframe thead th {\n",
              "        text-align: right;\n",
              "    }\n",
              "</style>\n",
              "<table border=\"1\" class=\"dataframe\">\n",
              "  <thead>\n",
              "    <tr style=\"text-align: right;\">\n",
              "      <th></th>\n",
              "      <th>b'8PSK'</th>\n",
              "      <th>b'AM-DSB'</th>\n",
              "      <th>b'BPSK'</th>\n",
              "      <th>b'CPFSK'</th>\n",
              "      <th>b'GFSK'</th>\n",
              "      <th>b'PAM4'</th>\n",
              "      <th>b'QAM16'</th>\n",
              "      <th>b'QAM64'</th>\n",
              "      <th>b'QPSK'</th>\n",
              "      <th>b'WBFM'</th>\n",
              "    </tr>\n",
              "  </thead>\n",
              "  <tbody>\n",
              "    <tr>\n",
              "      <th>b'8PSK'</th>\n",
              "      <td>19566</td>\n",
              "      <td>725</td>\n",
              "      <td>248</td>\n",
              "      <td>3523</td>\n",
              "      <td>7810</td>\n",
              "      <td>370</td>\n",
              "      <td>694</td>\n",
              "      <td>551</td>\n",
              "      <td>1259</td>\n",
              "      <td>1254</td>\n",
              "    </tr>\n",
              "    <tr>\n",
              "      <th>b'AM-DSB'</th>\n",
              "      <td>7</td>\n",
              "      <td>25090</td>\n",
              "      <td>38</td>\n",
              "      <td>1085</td>\n",
              "      <td>5067</td>\n",
              "      <td>93</td>\n",
              "      <td>22</td>\n",
              "      <td>5</td>\n",
              "      <td>122</td>\n",
              "      <td>4471</td>\n",
              "    </tr>\n",
              "    <tr>\n",
              "      <th>b'BPSK'</th>\n",
              "      <td>98</td>\n",
              "      <td>721</td>\n",
              "      <td>21727</td>\n",
              "      <td>2497</td>\n",
              "      <td>7460</td>\n",
              "      <td>1636</td>\n",
              "      <td>115</td>\n",
              "      <td>86</td>\n",
              "      <td>403</td>\n",
              "      <td>1257</td>\n",
              "    </tr>\n",
              "    <tr>\n",
              "      <th>b'CPFSK'</th>\n",
              "      <td>92</td>\n",
              "      <td>712</td>\n",
              "      <td>123</td>\n",
              "      <td>24986</td>\n",
              "      <td>8100</td>\n",
              "      <td>234</td>\n",
              "      <td>107</td>\n",
              "      <td>95</td>\n",
              "      <td>316</td>\n",
              "      <td>1235</td>\n",
              "    </tr>\n",
              "    <tr>\n",
              "      <th>b'GFSK'</th>\n",
              "      <td>18</td>\n",
              "      <td>917</td>\n",
              "      <td>62</td>\n",
              "      <td>1553</td>\n",
              "      <td>31578</td>\n",
              "      <td>153</td>\n",
              "      <td>31</td>\n",
              "      <td>15</td>\n",
              "      <td>147</td>\n",
              "      <td>1526</td>\n",
              "    </tr>\n",
              "    <tr>\n",
              "      <th>b'PAM4'</th>\n",
              "      <td>41</td>\n",
              "      <td>564</td>\n",
              "      <td>698</td>\n",
              "      <td>1860</td>\n",
              "      <td>5392</td>\n",
              "      <td>25984</td>\n",
              "      <td>101</td>\n",
              "      <td>102</td>\n",
              "      <td>296</td>\n",
              "      <td>962</td>\n",
              "    </tr>\n",
              "    <tr>\n",
              "      <th>b'QAM16'</th>\n",
              "      <td>675</td>\n",
              "      <td>370</td>\n",
              "      <td>206</td>\n",
              "      <td>2771</td>\n",
              "      <td>4782</td>\n",
              "      <td>406</td>\n",
              "      <td>21633</td>\n",
              "      <td>3599</td>\n",
              "      <td>767</td>\n",
              "      <td>791</td>\n",
              "    </tr>\n",
              "    <tr>\n",
              "      <th>b'QAM64'</th>\n",
              "      <td>528</td>\n",
              "      <td>252</td>\n",
              "      <td>169</td>\n",
              "      <td>2335</td>\n",
              "      <td>3006</td>\n",
              "      <td>360</td>\n",
              "      <td>2772</td>\n",
              "      <td>25451</td>\n",
              "      <td>611</td>\n",
              "      <td>516</td>\n",
              "    </tr>\n",
              "    <tr>\n",
              "      <th>b'QPSK'</th>\n",
              "      <td>1011</td>\n",
              "      <td>732</td>\n",
              "      <td>243</td>\n",
              "      <td>3569</td>\n",
              "      <td>7641</td>\n",
              "      <td>391</td>\n",
              "      <td>636</td>\n",
              "      <td>362</td>\n",
              "      <td>20229</td>\n",
              "      <td>1186</td>\n",
              "    </tr>\n",
              "    <tr>\n",
              "      <th>b'WBFM'</th>\n",
              "      <td>13</td>\n",
              "      <td>16119</td>\n",
              "      <td>42</td>\n",
              "      <td>1072</td>\n",
              "      <td>6122</td>\n",
              "      <td>100</td>\n",
              "      <td>26</td>\n",
              "      <td>12</td>\n",
              "      <td>126</td>\n",
              "      <td>12368</td>\n",
              "    </tr>\n",
              "  </tbody>\n",
              "</table>\n",
              "</div>\n",
              "      <button class=\"colab-df-convert\" onclick=\"convertToInteractive('df-db1f6b83-29c7-4d8b-addf-3e33d060b7d5')\"\n",
              "              title=\"Convert this dataframe to an interactive table.\"\n",
              "              style=\"display:none;\">\n",
              "        \n",
              "  <svg xmlns=\"http://www.w3.org/2000/svg\" height=\"24px\"viewBox=\"0 0 24 24\"\n",
              "       width=\"24px\">\n",
              "    <path d=\"M0 0h24v24H0V0z\" fill=\"none\"/>\n",
              "    <path d=\"M18.56 5.44l.94 2.06.94-2.06 2.06-.94-2.06-.94-.94-2.06-.94 2.06-2.06.94zm-11 1L8.5 8.5l.94-2.06 2.06-.94-2.06-.94L8.5 2.5l-.94 2.06-2.06.94zm10 10l.94 2.06.94-2.06 2.06-.94-2.06-.94-.94-2.06-.94 2.06-2.06.94z\"/><path d=\"M17.41 7.96l-1.37-1.37c-.4-.4-.92-.59-1.43-.59-.52 0-1.04.2-1.43.59L10.3 9.45l-7.72 7.72c-.78.78-.78 2.05 0 2.83L4 21.41c.39.39.9.59 1.41.59.51 0 1.02-.2 1.41-.59l7.78-7.78 2.81-2.81c.8-.78.8-2.07 0-2.86zM5.41 20L4 18.59l7.72-7.72 1.47 1.35L5.41 20z\"/>\n",
              "  </svg>\n",
              "      </button>\n",
              "      \n",
              "  <style>\n",
              "    .colab-df-container {\n",
              "      display:flex;\n",
              "      flex-wrap:wrap;\n",
              "      gap: 12px;\n",
              "    }\n",
              "\n",
              "    .colab-df-convert {\n",
              "      background-color: #E8F0FE;\n",
              "      border: none;\n",
              "      border-radius: 50%;\n",
              "      cursor: pointer;\n",
              "      display: none;\n",
              "      fill: #1967D2;\n",
              "      height: 32px;\n",
              "      padding: 0 0 0 0;\n",
              "      width: 32px;\n",
              "    }\n",
              "\n",
              "    .colab-df-convert:hover {\n",
              "      background-color: #E2EBFA;\n",
              "      box-shadow: 0px 1px 2px rgba(60, 64, 67, 0.3), 0px 1px 3px 1px rgba(60, 64, 67, 0.15);\n",
              "      fill: #174EA6;\n",
              "    }\n",
              "\n",
              "    [theme=dark] .colab-df-convert {\n",
              "      background-color: #3B4455;\n",
              "      fill: #D2E3FC;\n",
              "    }\n",
              "\n",
              "    [theme=dark] .colab-df-convert:hover {\n",
              "      background-color: #434B5C;\n",
              "      box-shadow: 0px 1px 3px 1px rgba(0, 0, 0, 0.15);\n",
              "      filter: drop-shadow(0px 1px 2px rgba(0, 0, 0, 0.3));\n",
              "      fill: #FFFFFF;\n",
              "    }\n",
              "  </style>\n",
              "\n",
              "      <script>\n",
              "        const buttonEl =\n",
              "          document.querySelector('#df-db1f6b83-29c7-4d8b-addf-3e33d060b7d5 button.colab-df-convert');\n",
              "        buttonEl.style.display =\n",
              "          google.colab.kernel.accessAllowed ? 'block' : 'none';\n",
              "\n",
              "        async function convertToInteractive(key) {\n",
              "          const element = document.querySelector('#df-db1f6b83-29c7-4d8b-addf-3e33d060b7d5');\n",
              "          const dataTable =\n",
              "            await google.colab.kernel.invokeFunction('convertToInteractive',\n",
              "                                                     [key], {});\n",
              "          if (!dataTable) return;\n",
              "\n",
              "          const docLinkHtml = 'Like what you see? Visit the ' +\n",
              "            '<a target=\"_blank\" href=https://colab.research.google.com/notebooks/data_table.ipynb>data table notebook</a>'\n",
              "            + ' to learn more about interactive tables.';\n",
              "          element.innerHTML = '';\n",
              "          dataTable['output_type'] = 'display_data';\n",
              "          await google.colab.output.renderOutput(dataTable, element);\n",
              "          const docLink = document.createElement('div');\n",
              "          docLink.innerHTML = docLinkHtml;\n",
              "          element.appendChild(docLink);\n",
              "        }\n",
              "      </script>\n",
              "    </div>\n",
              "  </div>\n",
              "  "
            ]
          },
          "metadata": {},
          "execution_count": 17
        }
      ]
    },
    {
      "cell_type": "code",
      "source": [
        "# get most confusing classes\n",
        "fig, ax = plt.subplots(figsize=(15,10))         # Sample figsize in inches\n",
        "sns.heatmap(confusion_matrix1, annot=True, linewidths=.5, ax=ax, fmt='g')"
      ],
      "metadata": {
        "id": "nPuslHnwtOm0",
        "colab": {
          "base_uri": "https://localhost:8080/",
          "height": 609
        },
        "outputId": "c0a90b8d-368b-4da3-edbe-635b7db871a4"
      },
      "execution_count": null,
      "outputs": [
        {
          "output_type": "execute_result",
          "data": {
            "text/plain": [
              "<matplotlib.axes._subplots.AxesSubplot at 0x7fb023fe0050>"
            ]
          },
          "metadata": {},
          "execution_count": 18
        },
        {
          "output_type": "display_data",
          "data": {
            "text/plain": [
              "<Figure size 1080x720 with 2 Axes>"
            ],
            "image/png": "[encoded data removed]"
          },
          "metadata": {
            "needs_background": "light"
          }
        }
      ]
    },
    {
      "cell_type": "code",
      "source": [
        "# Print f1, precision, and recall scores\n",
        "print(\"Percision: \",precision_score(y_test_classes, y_pred_classes , average=\"macro\"))\n",
        "print(\"Recall: \",recall_score(y_test_classes, y_pred_classes , average=\"macro\"))\n",
        "print(\"F-score: \",f1_score(y_test_classes, y_pred_classes , average=\"macro\"))"
      ],
      "metadata": {
        "id": "Sa09wnni-nuD",
        "colab": {
          "base_uri": "https://localhost:8080/"
        },
        "outputId": "25d82389-308e-46ed-8f84-1f7cba6211b2"
      },
      "execution_count": null,
      "outputs": [
        {
          "output_type": "stream",
          "name": "stdout",
          "text": [
            "Percision:  0.7127499655721209\n",
            "Recall:  0.6350333333333333\n",
            "F-score:  0.6470836058613552\n"
          ]
        }
      ]
    },
    {
      "cell_type": "code",
      "source": [
        "# group by snr\n",
        "snr_test = [int(snr) for snr in snr_test]\n",
        "sorted_snrs = np.sort(np.unique(snr_test))\n",
        "x = []\n",
        "y = []\n",
        "for snr in sorted_snrs:\n",
        "  idx = np.where(snr_test == snr)\n",
        "  x.append(snr)\n",
        "  y.append(accuracy_score(np.argmax(y_test_lb[idx], axis = 1), np.argmax(y_predicted[idx], axis = 1)))\n"
      ],
      "metadata": {
        "id": "zwAmEVVutJbG"
      },
      "execution_count": null,
      "outputs": []
    },
    {
      "cell_type": "code",
      "source": [
        "# print results of snr\n",
        "pd.DataFrame(data = np.array(y).reshape(1, -1) * 100,  columns = sorted_snrs, index = ['accuracy']).round(2)"
      ],
      "metadata": {
        "id": "Kj9jWjpmu-FF",
        "colab": {
          "base_uri": "https://localhost:8080/",
          "height": 81
        },
        "outputId": "57a95fef-dbea-431f-8c08-5963ec555317"
      },
      "execution_count": null,
      "outputs": [
        {
          "output_type": "execute_result",
          "data": {
            "text/plain": [
              "           -20    -18    -16    -14    -12    -10    -8     -6     -4     -2   \\\n",
              "accuracy  10.5  10.67  11.78  14.74  20.25  30.68  41.28  53.03  69.22  82.94   \n",
              "\n",
              "            0      2      4      6      8      10     12     14     16     18  \n",
              "accuracy  89.8  91.79  92.34  92.84  92.77  93.16  92.99  93.06  93.05  93.18  "
            ],
            "text/html": [
              "\n",
              "  <div id=\"df-9d3703e9-8dc1-4a90-89a7-868c0b9f7e18\">\n",
              "    <div class=\"colab-df-container\">\n",
              "      <div>\n",
              "<style scoped>\n",
              "    .dataframe tbody tr th:only-of-type {\n",
              "        vertical-align: middle;\n",
              "    }\n",
              "\n",
              "    .dataframe tbody tr th {\n",
              "        vertical-align: top;\n",
              "    }\n",
              "\n",
              "    .dataframe thead th {\n",
              "        text-align: right;\n",
              "    }\n",
              "</style>\n",
              "<table border=\"1\" class=\"dataframe\">\n",
              "  <thead>\n",
              "    <tr style=\"text-align: right;\">\n",
              "      <th></th>\n",
              "      <th>-20</th>\n",
              "      <th>-18</th>\n",
              "      <th>-16</th>\n",
              "      <th>-14</th>\n",
              "      <th>-12</th>\n",
              "      <th>-10</th>\n",
              "      <th>-8</th>\n",
              "      <th>-6</th>\n",
              "      <th>-4</th>\n",
              "      <th>-2</th>\n",
              "      <th>0</th>\n",
              "      <th>2</th>\n",
              "      <th>4</th>\n",
              "      <th>6</th>\n",
              "      <th>8</th>\n",
              "      <th>10</th>\n",
              "      <th>12</th>\n",
              "      <th>14</th>\n",
              "      <th>16</th>\n",
              "      <th>18</th>\n",
              "    </tr>\n",
              "  </thead>\n",
              "  <tbody>\n",
              "    <tr>\n",
              "      <th>accuracy</th>\n",
              "      <td>10.5</td>\n",
              "      <td>10.67</td>\n",
              "      <td>11.78</td>\n",
              "      <td>14.74</td>\n",
              "      <td>20.25</td>\n",
              "      <td>30.68</td>\n",
              "      <td>41.28</td>\n",
              "      <td>53.03</td>\n",
              "      <td>69.22</td>\n",
              "      <td>82.94</td>\n",
              "      <td>89.8</td>\n",
              "      <td>91.79</td>\n",
              "      <td>92.34</td>\n",
              "      <td>92.84</td>\n",
              "      <td>92.77</td>\n",
              "      <td>93.16</td>\n",
              "      <td>92.99</td>\n",
              "      <td>93.06</td>\n",
              "      <td>93.05</td>\n",
              "      <td>93.18</td>\n",
              "    </tr>\n",
              "  </tbody>\n",
              "</table>\n",
              "</div>\n",
              "      <button class=\"colab-df-convert\" onclick=\"convertToInteractive('df-9d3703e9-8dc1-4a90-89a7-868c0b9f7e18')\"\n",
              "              title=\"Convert this dataframe to an interactive table.\"\n",
              "              style=\"display:none;\">\n",
              "        \n",
              "  <svg xmlns=\"http://www.w3.org/2000/svg\" height=\"24px\"viewBox=\"0 0 24 24\"\n",
              "       width=\"24px\">\n",
              "    <path d=\"M0 0h24v24H0V0z\" fill=\"none\"/>\n",
              "    <path d=\"M18.56 5.44l.94 2.06.94-2.06 2.06-.94-2.06-.94-.94-2.06-.94 2.06-2.06.94zm-11 1L8.5 8.5l.94-2.06 2.06-.94-2.06-.94L8.5 2.5l-.94 2.06-2.06.94zm10 10l.94 2.06.94-2.06 2.06-.94-2.06-.94-.94-2.06-.94 2.06-2.06.94z\"/><path d=\"M17.41 7.96l-1.37-1.37c-.4-.4-.92-.59-1.43-.59-.52 0-1.04.2-1.43.59L10.3 9.45l-7.72 7.72c-.78.78-.78 2.05 0 2.83L4 21.41c.39.39.9.59 1.41.59.51 0 1.02-.2 1.41-.59l7.78-7.78 2.81-2.81c.8-.78.8-2.07 0-2.86zM5.41 20L4 18.59l7.72-7.72 1.47 1.35L5.41 20z\"/>\n",
              "  </svg>\n",
              "      </button>\n",
              "      \n",
              "  <style>\n",
              "    .colab-df-container {\n",
              "      display:flex;\n",
              "      flex-wrap:wrap;\n",
              "      gap: 12px;\n",
              "    }\n",
              "\n",
              "    .colab-df-convert {\n",
              "      background-color: #E8F0FE;\n",
              "      border: none;\n",
              "      border-radius: 50%;\n",
              "      cursor: pointer;\n",
              "      display: none;\n",
              "      fill: #1967D2;\n",
              "      height: 32px;\n",
              "      padding: 0 0 0 0;\n",
              "      width: 32px;\n",
              "    }\n",
              "\n",
              "    .colab-df-convert:hover {\n",
              "      background-color: #E2EBFA;\n",
              "      box-shadow: 0px 1px 2px rgba(60, 64, 67, 0.3), 0px 1px 3px 1px rgba(60, 64, 67, 0.15);\n",
              "      fill: #174EA6;\n",
              "    }\n",
              "\n",
              "    [theme=dark] .colab-df-convert {\n",
              "      background-color: #3B4455;\n",
              "      fill: #D2E3FC;\n",
              "    }\n",
              "\n",
              "    [theme=dark] .colab-df-convert:hover {\n",
              "      background-color: #434B5C;\n",
              "      box-shadow: 0px 1px 3px 1px rgba(0, 0, 0, 0.15);\n",
              "      filter: drop-shadow(0px 1px 2px rgba(0, 0, 0, 0.3));\n",
              "      fill: #FFFFFF;\n",
              "    }\n",
              "  </style>\n",
              "\n",
              "      <script>\n",
              "        const buttonEl =\n",
              "          document.querySelector('#df-9d3703e9-8dc1-4a90-89a7-868c0b9f7e18 button.colab-df-convert');\n",
              "        buttonEl.style.display =\n",
              "          google.colab.kernel.accessAllowed ? 'block' : 'none';\n",
              "\n",
              "        async function convertToInteractive(key) {\n",
              "          const element = document.querySelector('#df-9d3703e9-8dc1-4a90-89a7-868c0b9f7e18');\n",
              "          const dataTable =\n",
              "            await google.colab.kernel.invokeFunction('convertToInteractive',\n",
              "                                                     [key], {});\n",
              "          if (!dataTable) return;\n",
              "\n",
              "          const docLinkHtml = 'Like what you see? Visit the ' +\n",
              "            '<a target=\"_blank\" href=https://colab.research.google.com/notebooks/data_table.ipynb>data table notebook</a>'\n",
              "            + ' to learn more about interactive tables.';\n",
              "          element.innerHTML = '';\n",
              "          dataTable['output_type'] = 'display_data';\n",
              "          await google.colab.output.renderOutput(dataTable, element);\n",
              "          const docLink = document.createElement('div');\n",
              "          docLink.innerHTML = docLinkHtml;\n",
              "          element.appendChild(docLink);\n",
              "        }\n",
              "      </script>\n",
              "    </div>\n",
              "  </div>\n",
              "  "
            ]
          },
          "metadata": {},
          "execution_count": 25
        }
      ]
    },
    {
      "cell_type": "code",
      "source": [
        "# plot accuracy vs snr\n",
        "plt.xlabel('SNR')\n",
        "plt.ylabel('Accuracy')\n",
        "plt.title('Classification Accuracy over different SNRs')\n",
        "plt.plot(x, np.array(y) * 100, 'bo-')\n",
        "plt.grid(True)"
      ],
      "metadata": {
        "id": "pvujwhM9vDmd",
        "colab": {
          "base_uri": "https://localhost:8080/",
          "height": 295
        },
        "outputId": "73d6b1ab-1347-4230-835b-dbf2d9f40c21"
      },
      "execution_count": null,
      "outputs": [
        {
          "output_type": "display_data",
          "data": {
            "text/plain": [
              "<Figure size 432x288 with 1 Axes>"
            ],
            "image/png": "[encoded data removed]"
          },
          "metadata": {
            "needs_background": "light"
          }
        }
      ]
    }
  ],
  "metadata": {
    "colab": {
      "collapsed_sections": [],
      "name": "integral of LSTM.ipynb",
      "provenance": []
    },
    "kernelspec": {
      "display_name": "Python 3",
      "name": "python3"
    },
    "language_info": {
      "name": "python"
    },
    "accelerator": "GPU",
    "gpuClass": "standard"
  },
  "nbformat": 4,
  "nbformat_minor": 0
}